{
 "cells": [
  {
   "cell_type": "code",
   "execution_count": 1,
   "id": "9a96fdb1-4749-473a-8805-ed2a3f3c6d56",
   "metadata": {},
   "outputs": [
    {
     "name": "stdin",
     "output_type": "stream",
     "text": [
      "Enter a number:  5\n"
     ]
    },
    {
     "name": "stdout",
     "output_type": "stream",
     "text": [
      "The number is positive.\n"
     ]
    }
   ],
   "source": [
    "#1. Write a Python program to check if a given number is positive or negative.\n",
    "\n",
    "# Input: Get a number from the user\n",
    "number = float(input(\"Enter a number: \"))\n",
    "\n",
    "# Check if the number is positive, negative, or zero\n",
    "if number > 0:\n",
    "    print(\"The number is positive.\")\n",
    "elif number < 0:\n",
    "    print(\"The number is negative.\")\n",
    "else:\n",
    "    print(\"The number is zero.\")"
   ]
  },
  {
   "cell_type": "code",
   "execution_count": 2,
   "id": "d72285d6-7fcb-4e42-8b1c-bf7027f8ed7a",
   "metadata": {},
   "outputs": [
    {
     "name": "stdin",
     "output_type": "stream",
     "text": [
      "Enter your age:  52\n"
     ]
    },
    {
     "name": "stdout",
     "output_type": "stream",
     "text": [
      "You are eligible to vote.\n"
     ]
    }
   ],
   "source": [
    "#2. Create a program that determines if a person is eligible to vote based on their age.\n",
    "\n",
    "# Input: Get the person's age from the user\n",
    "age = int(input(\"Enter your age: \"))\n",
    "\n",
    "# Check if the person is eligible to vote\n",
    "if age >= 18:\n",
    "    print(\"You are eligible to vote.\")\n",
    "else:\n",
    "    print(\"You are not eligible to vote yet.\")"
   ]
  },
  {
   "cell_type": "code",
   "execution_count": 3,
   "id": "c2f7c26a-7412-4291-a36f-a1531c8eb17a",
   "metadata": {},
   "outputs": [
    {
     "name": "stdin",
     "output_type": "stream",
     "text": [
      "Enter the first number:  25\n",
      "Enter the second number:  16\n"
     ]
    },
    {
     "name": "stdout",
     "output_type": "stream",
     "text": [
      "The maximum number is: 25.0\n"
     ]
    }
   ],
   "source": [
    "#3. Develop a program to find the maximum of two numbers using if-else statements.\n",
    "\n",
    "# Input: Get two numbers from the user\n",
    "num1 = float(input(\"Enter the first number: \"))\n",
    "num2 = float(input(\"Enter the second number: \"))\n",
    "\n",
    "# Compare the numbers and find the maximum\n",
    "if num1 > num2:\n",
    "    maximum = num1\n",
    "else:\n",
    "    maximum = num2\n",
    "\n",
    "# Print the maximum number\n",
    "print(\"The maximum number is:\", maximum)"
   ]
  },
  {
   "cell_type": "code",
   "execution_count": 4,
   "id": "064a65b9-7545-45a0-b2a6-78ab1b12c201",
   "metadata": {},
   "outputs": [
    {
     "name": "stdin",
     "output_type": "stream",
     "text": [
      "Enter a year:  2000\n"
     ]
    },
    {
     "name": "stdout",
     "output_type": "stream",
     "text": [
      "2000 is a leap year.\n"
     ]
    }
   ],
   "source": [
    "#4. Write a Python script to classify a given year as a leap year or not.\n",
    "\n",
    "# Input: Get the year from the user\n",
    "year = int(input(\"Enter a year: \"))\n",
    "\n",
    "# Check if the year is a leap year\n",
    "if (year % 4 == 0 and year % 100 != 0) or (year % 400 == 0):\n",
    "    print(year, \"is a leap year.\")\n",
    "else:\n",
    "    print(year, \"is not a leap year.\")"
   ]
  },
  {
   "cell_type": "code",
   "execution_count": 5,
   "id": "1feacfd3-d3ea-4a7c-935c-13afe333c859",
   "metadata": {},
   "outputs": [
    {
     "name": "stdin",
     "output_type": "stream",
     "text": [
      "Enter a character:  Gautam\n"
     ]
    },
    {
     "name": "stdout",
     "output_type": "stream",
     "text": [
      "Please enter a single alphabetical character.\n"
     ]
    }
   ],
   "source": [
    "#5. Create a program that checks whether a character is a vowel or a consonant.\n",
    "\n",
    "# Input: Get a character from the user (assuming it's a single letter)\n",
    "character = input(\"Enter a character: \")\n",
    "\n",
    "# Check if the character is a vowel or a consonant\n",
    "if character.isalpha() and len(character) == 1:\n",
    "    # Convert the character to lowercase to handle both uppercase and lowercase input\n",
    "    character = character.lower()\n",
    "    \n",
    "    if character in \"aeiou\":\n",
    "        print(character, \"is a vowel.\")\n",
    "    else:\n",
    "        print(character, \"is a consonant.\")\n",
    "else:\n",
    "    print(\"Please enter a single alphabetical character.\")"
   ]
  },
  {
   "cell_type": "code",
   "execution_count": 6,
   "id": "02d0b5a4-3b7f-4068-bfbc-56d1d595f92a",
   "metadata": {},
   "outputs": [
    {
     "name": "stdin",
     "output_type": "stream",
     "text": [
      "Enter a number:  52\n"
     ]
    },
    {
     "name": "stdout",
     "output_type": "stream",
     "text": [
      "52 is an even number.\n"
     ]
    }
   ],
   "source": [
    "#6. Implement a program to determine whether a given number is even or odd.\n",
    "\n",
    "# Input: Get a number from the user\n",
    "number = int(input(\"Enter a number: \"))\n",
    "\n",
    "# Check if the number is even or odd\n",
    "if number % 2 == 0:\n",
    "    print(number, \"is an even number.\")\n",
    "else:\n",
    "    print(number, \"is an odd number.\")"
   ]
  },
  {
   "cell_type": "code",
   "execution_count": 7,
   "id": "b6a4fce0-17e2-4e12-abad-d12951a10c68",
   "metadata": {},
   "outputs": [
    {
     "name": "stdin",
     "output_type": "stream",
     "text": [
      "Enter a number:  45\n"
     ]
    },
    {
     "name": "stdout",
     "output_type": "stream",
     "text": [
      "The absolute value of 45.0 is 45.0\n"
     ]
    }
   ],
   "source": [
    "#7. Write a Python function to calculate the absolute value of a number without using the `abs()` function.\n",
    "\n",
    "def absolute_value(number):\n",
    "    if number < 0:\n",
    "        return -number\n",
    "    else:\n",
    "        return number\n",
    "\n",
    "# Example usage:\n",
    "number = float(input(\"Enter a number: \"))\n",
    "result = absolute_value(number)\n",
    "print(\"The absolute value of\", number, \"is\", result)"
   ]
  },
  {
   "cell_type": "code",
   "execution_count": 8,
   "id": "a298f034-d974-4347-9430-d62eeeb27874",
   "metadata": {},
   "outputs": [
    {
     "name": "stdin",
     "output_type": "stream",
     "text": [
      "Enter the first number:  25\n",
      "Enter the second number:  45\n",
      "Enter the third number:  75\n"
     ]
    },
    {
     "name": "stdout",
     "output_type": "stream",
     "text": [
      "The largest number is: 75.0\n"
     ]
    }
   ],
   "source": [
    "#8. Develop a program that determines the largest of three given numbers using if-else statements.\n",
    "\n",
    "# Input: Get three numbers from the user\n",
    "num1 = float(input(\"Enter the first number: \"))\n",
    "num2 = float(input(\"Enter the second number: \"))\n",
    "num3 = float(input(\"Enter the third number: \"))\n",
    "\n",
    "# Determine the largest number using if-else statements\n",
    "if num1 >= num2 and num1 >= num3:\n",
    "    largest = num1\n",
    "elif num2 >= num1 and num2 >= num3:\n",
    "    largest = num2\n",
    "else:\n",
    "    largest = num3\n",
    "\n",
    "# Print the largest number\n",
    "print(\"The largest number is:\", largest)"
   ]
  },
  {
   "cell_type": "code",
   "execution_count": 9,
   "id": "d30cdb90-8ffe-4627-8df1-bd63a17898fb",
   "metadata": {},
   "outputs": [
    {
     "name": "stdin",
     "output_type": "stream",
     "text": [
      "Enter a string:  good\n"
     ]
    },
    {
     "name": "stdout",
     "output_type": "stream",
     "text": [
      "The string is not a palindrome.\n"
     ]
    }
   ],
   "source": [
    "#9. Create a program that checks if a given string is a palindrome.\n",
    "\n",
    "# Input: Get a string from the user\n",
    "string = input(\"Enter a string: \")\n",
    "\n",
    "# Remove spaces and convert the string to lowercase\n",
    "string = string.replace(\" \", \"\").lower()\n",
    "\n",
    "# Check if the string is a palindrome\n",
    "if string == string[::-1]:\n",
    "    print(\"The string is a palindrome.\")\n",
    "else:\n",
    "    print(\"The string is not a palindrome.\")"
   ]
  },
  {
   "cell_type": "code",
   "execution_count": 10,
   "id": "720db95a-d1d1-49cc-ad7d-a7335e350974",
   "metadata": {},
   "outputs": [
    {
     "name": "stdin",
     "output_type": "stream",
     "text": [
      "Enter the student's score as a percentage:  75\n"
     ]
    },
    {
     "name": "stdout",
     "output_type": "stream",
     "text": [
      "The student's grade is: C\n"
     ]
    }
   ],
   "source": [
    "#10. Write a Python program to calculate the grade based on a student's score.\n",
    "\n",
    "# Input: Get the student's score as a percentage\n",
    "score = float(input(\"Enter the student's score as a percentage: \"))\n",
    "\n",
    "# Determine the grade based on the score\n",
    "if 90 <= score <= 100:\n",
    "    grade = \"A\"\n",
    "elif 80 <= score < 90:\n",
    "    grade = \"B\"\n",
    "elif 70 <= score < 80:\n",
    "    grade = \"C\"\n",
    "elif 60 <= score < 70:\n",
    "    grade = \"D\"\n",
    "elif 0 <= score < 60:\n",
    "    grade = \"F\"\n",
    "else:\n",
    "    grade = \"Invalid input (score should be between 0 and 100).\"\n",
    "\n",
    "# Print the grade\n",
    "print(\"The student's grade is:\", grade)"
   ]
  },
  {
   "cell_type": "code",
   "execution_count": 11,
   "id": "65918796-c57e-4671-b158-3ef38e198b10",
   "metadata": {},
   "outputs": [
    {
     "name": "stdin",
     "output_type": "stream",
     "text": [
      "Enter the first number:  25\n",
      "Enter the second number:  54\n",
      "Enter the third number:  88\n"
     ]
    },
    {
     "name": "stdout",
     "output_type": "stream",
     "text": [
      "The largest number is: 88.0\n"
     ]
    }
   ],
   "source": [
    "#11. Write a program to find the largest among three numbers using nested if-else statements.\n",
    "\n",
    "# Input: Get three numbers from the user\n",
    "num1 = float(input(\"Enter the first number: \"))\n",
    "num2 = float(input(\"Enter the second number: \"))\n",
    "num3 = float(input(\"Enter the third number: \"))\n",
    "\n",
    "# Determine the largest number using nested if-else statements\n",
    "if num1 >= num2:\n",
    "    if num1 >= num3:\n",
    "        largest = num1\n",
    "    else:\n",
    "        largest = num3\n",
    "else:\n",
    "    if num2 >= num3:\n",
    "        largest = num2\n",
    "    else:\n",
    "        largest = num3\n",
    "\n",
    "# Print the largest number\n",
    "print(\"The largest number is:\", largest)"
   ]
  },
  {
   "cell_type": "code",
   "execution_count": 12,
   "id": "738cbb4b-4deb-454d-bffd-6f68df297dfc",
   "metadata": {},
   "outputs": [
    {
     "name": "stdin",
     "output_type": "stream",
     "text": [
      "Enter the length of the first side:  16\n",
      "Enter the length of the second side:  8\n",
      "Enter the length of the third side:  9\n"
     ]
    },
    {
     "name": "stdout",
     "output_type": "stream",
     "text": [
      "The triangle is scalene\n"
     ]
    }
   ],
   "source": [
    "#12. Implement a program to determine if a triangle is equilateral, isosceles, or scalene.\n",
    "\n",
    "# Input: Get the lengths of the three sides of the triangle\n",
    "side1 = float(input(\"Enter the length of the first side: \"))\n",
    "side2 = float(input(\"Enter the length of the second side: \"))\n",
    "side3 = float(input(\"Enter the length of the third side: \"))\n",
    "\n",
    "# Check if the triangle is equilateral, isosceles, or scalene\n",
    "if side1 == side2 == side3:\n",
    "    triangle_type = \"equilateral\"\n",
    "elif side1 == side2 or side2 == side3 or side1 == side3:\n",
    "    triangle_type = \"isosceles\"\n",
    "else:\n",
    "    triangle_type = \"scalene\"\n",
    "\n",
    "# Print the type of triangle\n",
    "print(\"The triangle is\", triangle_type)"
   ]
  },
  {
   "cell_type": "code",
   "execution_count": 13,
   "id": "c06cea14-4438-4694-9dde-e13722a1fc7f",
   "metadata": {},
   "outputs": [
    {
     "name": "stdin",
     "output_type": "stream",
     "text": [
      "Enter a year:  2520\n"
     ]
    },
    {
     "name": "stdout",
     "output_type": "stream",
     "text": [
      "2520 is a leap year but not a century year.\n"
     ]
    }
   ],
   "source": [
    "#13. Develop a program that checks if a year is a leap year and also if it is a century year.\n",
    "\n",
    "# Input: Get a year from the user\n",
    "year = int(input(\"Enter a year: \"))\n",
    "\n",
    "# Check if it's a leap year\n",
    "is_leap_year = False\n",
    "if (year % 4 == 0 and year % 100 != 0) or (year % 400 == 0):\n",
    "    is_leap_year = True\n",
    "\n",
    "# Check if it's a century year\n",
    "is_century_year = False\n",
    "if year % 100 == 0:\n",
    "    is_century_year = True\n",
    "\n",
    "# Print the results\n",
    "if is_leap_year:\n",
    "    if is_century_year:\n",
    "        print(year, \"is a leap year and a century year.\")\n",
    "    else:\n",
    "        print(year, \"is a leap year but not a century year.\")\n",
    "else:\n",
    "    if is_century_year:\n",
    "        print(year, \"is not a leap year but a century year.\")\n",
    "    else:\n",
    "        print(year, \"is neither a leap year nor a century year.\")"
   ]
  },
  {
   "cell_type": "code",
   "execution_count": 14,
   "id": "c4bdb549-86ac-44fe-9c25-08d5c7f3484b",
   "metadata": {},
   "outputs": [
    {
     "name": "stdin",
     "output_type": "stream",
     "text": [
      "Enter a number:  -25\n"
     ]
    },
    {
     "name": "stdout",
     "output_type": "stream",
     "text": [
      "The number is negative\n"
     ]
    }
   ],
   "source": [
    "#14. Write a Python script to determine if a number is positive, negative, or zero.\n",
    "\n",
    "# Input: Get a number from the user\n",
    "number = float(input(\"Enter a number: \"))\n",
    "\n",
    "# Determine if the number is positive, negative, or zero\n",
    "if number > 0:\n",
    "    result = \"positive\"\n",
    "elif number < 0:\n",
    "    result = \"negative\"\n",
    "else:\n",
    "    result = \"zero\"\n",
    "\n",
    "# Print the result\n",
    "print(\"The number is\", result)"
   ]
  },
  {
   "cell_type": "code",
   "execution_count": 15,
   "id": "34180002-3ec7-4c19-bfd6-09acd810e2f0",
   "metadata": {},
   "outputs": [
    {
     "name": "stdin",
     "output_type": "stream",
     "text": [
      "Enter the person's age:  48\n"
     ]
    },
    {
     "name": "stdout",
     "output_type": "stream",
     "text": [
      "The person is not a teenager.\n"
     ]
    }
   ],
   "source": [
    "#15. Create a program to check if a person is a teenager (between 13 and 19 years old).\n",
    "\n",
    "# Input: Get the person's age as an integer\n",
    "age = int(input(\"Enter the person's age: \"))\n",
    "\n",
    "# Check if the person is a teenager\n",
    "if 13 <= age <= 19:\n",
    "    print(\"The person is a teenager.\")\n",
    "else:\n",
    "    print(\"The person is not a teenager.\")"
   ]
  },
  {
   "cell_type": "code",
   "execution_count": 16,
   "id": "124f3980-306c-42c0-863e-b4126969a3e1",
   "metadata": {},
   "outputs": [
    {
     "name": "stdin",
     "output_type": "stream",
     "text": [
      "Enter the angle measure in degrees:  58\n"
     ]
    },
    {
     "name": "stdout",
     "output_type": "stream",
     "text": [
      "The angle is acute.\n"
     ]
    }
   ],
   "source": [
    "#16. Develop a program that determines the type of angle based on its measure (acute, obtuse, or right).\n",
    "\n",
    "# Input: Get the angle measure from the user\n",
    "angle = float(input(\"Enter the angle measure in degrees: \"))\n",
    "\n",
    "# Determine the type of angle\n",
    "if angle < 90:\n",
    "    angle_type = \"acute\"\n",
    "elif angle == 90:\n",
    "    angle_type = \"right\"\n",
    "else:\n",
    "    angle_type = \"obtuse\"\n",
    "\n",
    "# Print the type of angle\n",
    "print(f\"The angle is {angle_type}.\")"
   ]
  },
  {
   "cell_type": "code",
   "execution_count": 17,
   "id": "20b7a21f-a998-4d1e-ad5a-3aff0ca733f7",
   "metadata": {},
   "outputs": [
    {
     "name": "stdin",
     "output_type": "stream",
     "text": [
      "Enter the coefficient a:  25\n",
      "Enter the coefficient b:  16\n",
      "Enter the coefficient c:  15\n"
     ]
    },
    {
     "name": "stdout",
     "output_type": "stream",
     "text": [
      "The equation has complex roots:\n",
      "Root 1: -0.32 + 0.7054076835419358i\n",
      "Root 2: -0.32 - 0.7054076835419358i\n"
     ]
    }
   ],
   "source": [
    "#17. Write a Python program to calculate the roots of a quadratic equation.\n",
    "\n",
    "import math\n",
    "\n",
    "# Input: Get the coefficients a, b, and c from the user\n",
    "a = float(input(\"Enter the coefficient a: \"))\n",
    "b = float(input(\"Enter the coefficient b: \"))\n",
    "c = float(input(\"Enter the coefficient c: \"))\n",
    "\n",
    "# Calculate the discriminant\n",
    "discriminant = b**2 - 4*a*c\n",
    "\n",
    "# Check the type and calculate the roots\n",
    "if discriminant > 0:\n",
    "    # Two real and distinct roots\n",
    "    root1 = (-b + math.sqrt(discriminant)) / (2*a)\n",
    "    root2 = (-b - math.sqrt(discriminant)) / (2*a)\n",
    "    print(\"The equation has two real and distinct roots:\")\n",
    "    print(f\"Root 1: {root1}\")\n",
    "    print(f\"Root 2: {root2}\")\n",
    "elif discriminant == 0:\n",
    "    # One real root (double root)\n",
    "    root = -b / (2*a)\n",
    "    print(\"The equation has one real root (double root):\")\n",
    "    print(f\"Root: {root}\")\n",
    "else:\n",
    "    # Complex roots\n",
    "    real_part = -b / (2*a)\n",
    "    imaginary_part = math.sqrt(abs(discriminant)) / (2*a)\n",
    "    print(\"The equation has complex roots:\")\n",
    "    print(f\"Root 1: {real_part} + {imaginary_part}i\")\n",
    "    print(f\"Root 2: {real_part} - {imaginary_part}i\")"
   ]
  },
  {
   "cell_type": "code",
   "execution_count": 18,
   "id": "77e6068c-5d14-4839-85a5-f8beb3565767",
   "metadata": {},
   "outputs": [
    {
     "name": "stdin",
     "output_type": "stream",
     "text": [
      "Enter a number (1-7) to represent the day of the week:  1\n"
     ]
    },
    {
     "name": "stdout",
     "output_type": "stream",
     "text": [
      "Day 1 represents Monday.\n"
     ]
    }
   ],
   "source": [
    "#18. Implement a program to determine the day of the week based \n",
    "# on a user-provided number (1 for Monday, 2 for Tuesday, etc.).\n",
    "\n",
    "# Input: Get a number from the user (1 for Monday, 2 for Tuesday, etc.)\n",
    "day_number = int(input(\"Enter a number (1-7) to represent the day of the week: \"))\n",
    "\n",
    "# Check the user-provided number and determine the day of the week\n",
    "if 1 <= day_number <= 7:\n",
    "    days_of_week = [\"Monday\", \"Tuesday\", \"Wednesday\", \"Thursday\", \"Friday\", \"Saturday\", \"Sunday\"]\n",
    "    day = days_of_week[day_number - 1]\n",
    "    print(f\"Day {day_number} represents {day}.\")\n",
    "else:\n",
    "    print(\"Invalid input. Please enter a number from 1 to 7 to represent the day of the week.\")"
   ]
  },
  {
   "cell_type": "code",
   "execution_count": 19,
   "id": "1fa09599-7c5b-453d-9dcd-2755cfb11cd1",
   "metadata": {},
   "outputs": [
    {
     "name": "stdin",
     "output_type": "stream",
     "text": [
      "Enter a year:  2000\n"
     ]
    },
    {
     "name": "stdout",
     "output_type": "stream",
     "text": [
      "2000 is a leap year.\n"
     ]
    }
   ],
   "source": [
    "#19. Create a program that determines if a year is a leap year and also if it is evenly divisible by 400.\n",
    "\n",
    "# Input: Get the year from the user\n",
    "year = int(input(\"Enter a year: \"))\n",
    "\n",
    "# Check if the year is a leap year\n",
    "if (year % 4 == 0 and year % 100 != 0) or (year % 400 == 0):\n",
    "    print(f\"{year} is a leap year.\")\n",
    "else:\n",
    "    print(f\"{year} is not a leap year.\")"
   ]
  },
  {
   "cell_type": "code",
   "execution_count": 1,
   "id": "babe22c8-194b-40eb-976d-1f900922bbe9",
   "metadata": {},
   "outputs": [
    {
     "name": "stdin",
     "output_type": "stream",
     "text": [
      "Enter a number:  50\n"
     ]
    },
    {
     "name": "stdout",
     "output_type": "stream",
     "text": [
      "50 is not a prime number.\n"
     ]
    }
   ],
   "source": [
    "#20. Develop a program that checks if a given number is prime or not using nested if-else statements.\n",
    "\n",
    "# Input: Get the number from the user\n",
    "num = int(input(\"Enter a number: \"))\n",
    "\n",
    "# Check if the number is prime\n",
    "if num > 1:\n",
    "    for i in range(2, int(num ** 0.5) + 1):\n",
    "        if (num % i) == 0:\n",
    "            print(f\"{num} is not a prime number.\")\n",
    "            break\n",
    "    else:\n",
    "        print(f\"{num} is a prime number.\")\n",
    "else:\n",
    "    print(f\"{num} is not a prime number.\")"
   ]
  },
  {
   "cell_type": "code",
   "execution_count": 1,
   "id": "70bdf6d6-99fd-40d0-80eb-b2e3922c7204",
   "metadata": {},
   "outputs": [
    {
     "name": "stdin",
     "output_type": "stream",
     "text": [
      "Enter your score:  90\n"
     ]
    },
    {
     "name": "stdout",
     "output_type": "stream",
     "text": [
      "Your grade is: A\n"
     ]
    }
   ],
   "source": [
    "#21. Write a Python program to assign grades based on different ranges of scores using elif statements.\n",
    "\n",
    "# Function to assign grades based on a given score\n",
    "def assign_grade(score):\n",
    "    if score >= 90:\n",
    "        return 'A'\n",
    "    elif score >= 80:\n",
    "        return 'B'\n",
    "    elif score >= 70:\n",
    "        return 'C'\n",
    "    elif score >= 60:\n",
    "        return 'D'\n",
    "    else:\n",
    "        return 'F'\n",
    "\n",
    "# Get the score from the user\n",
    "try:\n",
    "    score = float(input(\"Enter your score: \"))\n",
    "    if 0 <= score <= 100:\n",
    "        grade = assign_grade(score)\n",
    "        print(f'Your grade is: {grade}')\n",
    "    else:\n",
    "        print(\"Invalid score. Please enter a score between 0 and 100.\")\n",
    "except ValueError:\n",
    "    print(\"Invalid input. Please enter a valid numeric score.\")"
   ]
  },
  {
   "cell_type": "code",
   "execution_count": 2,
   "id": "03470e07-7c77-42fa-8c6a-64a4cc726f9f",
   "metadata": {},
   "outputs": [
    {
     "name": "stdin",
     "output_type": "stream",
     "text": [
      "Enter the first angle:  45\n",
      "Enter the second angle:  57\n",
      "Enter the third angle: 63\n"
     ]
    },
    {
     "name": "stdout",
     "output_type": "stream",
     "text": [
      "Invalid angles. The sum of the angles of a triangle should be 180 degrees.\n"
     ]
    }
   ],
   "source": [
    "#22. Implement a program to determine the type of a triangle based on its angles.\n",
    "\n",
    "# Function to determine the type of triangle based on its angles\n",
    "def triangle_type(angle1, angle2, angle3):\n",
    "    if angle1 == angle2 == angle3 == 60:\n",
    "        return \"Equilateral Triangle\"\n",
    "    elif angle1 == angle2 or angle1 == angle3 or angle2 == angle3:\n",
    "        return \"Isosceles Triangle\"\n",
    "    else:\n",
    "        return \"Scalene Triangle\"\n",
    "\n",
    "# Get the angles from the user\n",
    "try:\n",
    "    angle1 = float(input(\"Enter the first angle: \"))\n",
    "    angle2 = float(input(\"Enter the second angle: \"))\n",
    "    angle3 = float(input(\"Enter the third angle:\"))\n",
    "\n",
    "    if angle1 + angle2 + angle3 == 180:\n",
    "        triangle = triangle_type(angle1, angle2, angle3)\n",
    "        print(f'The triangle is a {triangle}.')\n",
    "    else:\n",
    "        print(\"Invalid angles. The sum of the angles of a triangle should be 180 degrees.\")\n",
    "except ValueError:\n",
    "    print(\"Invalid input. Please enter valid numeric angles.\")"
   ]
  },
  {
   "cell_type": "code",
   "execution_count": 4,
   "id": "2abed3e1-4151-4251-9e6f-4b8caa775e35",
   "metadata": {},
   "outputs": [
    {
     "name": "stdin",
     "output_type": "stream",
     "text": [
      "Enter your weight in kilograms:  80\n",
      "Enter your height in meters:  123\n"
     ]
    },
    {
     "name": "stdout",
     "output_type": "stream",
     "text": [
      "Your BMI is 0.01, and you are categorized as \"Underweight\".\n"
     ]
    }
   ],
   "source": [
    "#23. Develop a program to categorize a given person's BMI into underweight, \n",
    "#normal, overweight, or obese using elif statements.\n",
    "\n",
    "# Function to calculate BMI\n",
    "def calculate_bmi(weight, height):\n",
    "    return weight / (height ** 2)\n",
    "\n",
    "# Function to categorize BMI\n",
    "def categorize_bmi(bmi):\n",
    "    if bmi < 18.5:\n",
    "        return \"Underweight\"\n",
    "    elif 18.5 <= bmi < 24.9:\n",
    "        return \"Normal Weight\"\n",
    "    elif 25 <= bmi < 29.9:\n",
    "        return \"Overweight\"\n",
    "    else:\n",
    "        return \"Obese\"\n",
    "\n",
    "# Get input from the user\n",
    "try:\n",
    "    weight = float(input(\"Enter your weight in kilograms: \"))\n",
    "    height = float(input(\"Enter your height in meters: \"))\n",
    "\n",
    "    if weight > 0 and height > 0:\n",
    "        bmi = calculate_bmi(weight, height)\n",
    "        category = categorize_bmi(bmi)\n",
    "        print(f'Your BMI is {bmi:.2f}, and you are categorized as \"{category}\".')\n",
    "    else:\n",
    "        print(\"Invalid input. Weight and height should be greater than zero.\")\n",
    "except ValueError:\n",
    "    print(\"Invalid input. Please enter valid numeric values for weight and height.\")"
   ]
  },
  {
   "cell_type": "code",
   "execution_count": 6,
   "id": "c87c2a3e-dc1c-48d1-a61c-f876d05c5a10",
   "metadata": {},
   "outputs": [
    {
     "name": "stdin",
     "output_type": "stream",
     "text": [
      "Enter a number:  58\n"
     ]
    },
    {
     "name": "stdout",
     "output_type": "stream",
     "text": [
      "The number is positive.\n"
     ]
    }
   ],
   "source": [
    "#24. Create a program that determines whether a given number is positive, \n",
    "#negative, or zero using elif statements.\n",
    "\n",
    "# Get the number from the user\n",
    "try:\n",
    "    number = float(input(\"Enter a number: \"))\n",
    "\n",
    "    if number > 0:\n",
    "        print(\"The number is positive.\")\n",
    "    elif number < 0:\n",
    "        print(\"The number is negative.\")\n",
    "    else:\n",
    "        print(\"The number is zero.\")\n",
    "except ValueError:\n",
    "    print(\"Invalid input. Please enter a valid numeric number.\")"
   ]
  },
  {
   "cell_type": "code",
   "execution_count": 7,
   "id": "003a7eb2-0643-452c-ae9b-b0a4da208270",
   "metadata": {},
   "outputs": [
    {
     "name": "stdin",
     "output_type": "stream",
     "text": [
      "Enter a character:  @\n"
     ]
    },
    {
     "name": "stdout",
     "output_type": "stream",
     "text": [
      "The character is a special character.\n"
     ]
    }
   ],
   "source": [
    "#25. Write a Python script to determine the type of a character \n",
    "# (uppercase, lowercase, or special) using elif statements.\n",
    "\n",
    "# Get a character from the user\n",
    "character = input(\"Enter a character: \")\n",
    "\n",
    "# Check the type of character using if, elif, and else statements\n",
    "if character.isalpha():\n",
    "    if character.islower():\n",
    "        print(\"The character is lowercase.\")\n",
    "    else:\n",
    "        print(\"The character is uppercase.\")\n",
    "elif character.isdigit():\n",
    "    print(\"The character is a digit.\")\n",
    "else:\n",
    "    print(\"The character is a special character.\")"
   ]
  },
  {
   "cell_type": "code",
   "execution_count": 9,
   "id": "1a95279f-d6a5-4390-b35a-a3a53b02c2dd",
   "metadata": {},
   "outputs": [
    {
     "name": "stdin",
     "output_type": "stream",
     "text": [
      "Enter the original price: $ 1000\n",
      "Enter the purchase amount: $ 800\n"
     ]
    },
    {
     "name": "stdout",
     "output_type": "stream",
     "text": [
      "The discounted price is: $950.00\n"
     ]
    }
   ],
   "source": [
    "#26. Implement a program to calculate the discounted price based \n",
    "# on different purchase amounts using elif statements.\n",
    "\n",
    "# Function to calculate the discounted price\n",
    "def calculate_discounted_price(original_price, purchase_amount):\n",
    "    if purchase_amount >= 1000:\n",
    "        discount = 0.1  # 10% discount for purchase amount >= 1000\n",
    "    elif purchase_amount >= 500:\n",
    "        discount = 0.05  # 5% discount for purchase amount >= 500\n",
    "    else:\n",
    "        discount = 0  # No discount for purchase amount < 500\n",
    "\n",
    "    discounted_price = original_price - (original_price * discount)\n",
    "    return discounted_price\n",
    "\n",
    "# Get input from the user\n",
    "try:\n",
    "    original_price = float(input(\"Enter the original price: $\"))\n",
    "    purchase_amount = float(input(\"Enter the purchase amount: $\"))\n",
    "\n",
    "    if original_price > 0 and purchase_amount >= 0:\n",
    "        discounted_price = calculate_discounted_price(original_price, purchase_amount)\n",
    "        print(f'The discounted price is: ${discounted_price:.2f}')\n",
    "    else:\n",
    "        print(\"Invalid input. Original price should be greater than zero, and purchase amount should be non-negative.\")\n",
    "except ValueError:\n",
    "    print(\"Invalid input. Please enter valid numeric values for original price and purchase amount.\")"
   ]
  },
  {
   "cell_type": "code",
   "execution_count": 10,
   "id": "1277e528-c0b5-44c7-9a02-81429eef645a",
   "metadata": {},
   "outputs": [
    {
     "name": "stdin",
     "output_type": "stream",
     "text": [
      "Enter the number of units consumed:  500\n"
     ]
    },
    {
     "name": "stdout",
     "output_type": "stream",
     "text": [
      "Your electricity bill is: $440.00\n"
     ]
    }
   ],
   "source": [
    "#27. Develop a program to calculate the electricity bill based \n",
    "# on different consumption slabs using elif statements.\n",
    "\n",
    "# Function to calculate the electricity bill\n",
    "def calculate_electricity_bill(units_consumed):\n",
    "    if units_consumed <= 100:\n",
    "        return units_consumed * 0.50  # Rate for the first 100 units\n",
    "    elif units_consumed <= 300:\n",
    "        return (100 * 0.50) + ((units_consumed - 100) * 0.75)  # Rates for the first 100 units and the next 200 units\n",
    "    elif units_consumed <= 500:\n",
    "        return (100 * 0.50) + (200 * 0.75) + ((units_consumed - 300) * 1.20)  # Rates for the first 100 units, the next 200 units, and the next 200 units\n",
    "    else:\n",
    "        return (100 * 0.50) + (200 * 0.75) + (200 * 1.20) + ((units_consumed - 500) * 1.50)  # Rates for the first 100 units, the next 200 units, the next 200 units, and any additional units\n",
    "\n",
    "# Get input from the user\n",
    "try:\n",
    "    units_consumed = float(input(\"Enter the number of units consumed: \"))\n",
    "\n",
    "    if units_consumed >= 0:\n",
    "        bill_amount = calculate_electricity_bill(units_consumed)\n",
    "        print(f'Your electricity bill is: ${bill_amount:.2f}')\n",
    "    else:\n",
    "        print(\"Invalid input. Units consumed should be non-negative.\")\n",
    "except ValueError:\n",
    "    print(\"Invalid input. Please enter a valid numeric value for units consumed.\")"
   ]
  },
  {
   "cell_type": "code",
   "execution_count": 11,
   "id": "73ea15fa-2777-4f6a-a5ad-73ffe81f6f1b",
   "metadata": {},
   "outputs": [
    {
     "name": "stdin",
     "output_type": "stream",
     "text": [
      "Enter the first angle:  50\n",
      "Enter the second angle:  70\n",
      "Enter the third angle:  60\n",
      "Enter the fourth angle:  80\n",
      "Enter the length of the first side:  5\n",
      "Enter the length of the second side:  7\n",
      "Enter the length of the third side:  8\n",
      "Enter the length of the fourth side:  9\n"
     ]
    },
    {
     "name": "stdout",
     "output_type": "stream",
     "text": [
      "The quadrilateral is a Quadrilateral.\n"
     ]
    }
   ],
   "source": [
    "#28. Create a program to determine the type of quadrilateral \n",
    "# based on its angles and sides using elif statements.\n",
    "\n",
    "# Function to determine the type of quadrilateral based on angles and sides\n",
    "def classify_quadrilateral(angle1, angle2, angle3, angle4, side1, side2, side3, side4):\n",
    "    if angle1 == angle2 == angle3 == angle4 == 90:\n",
    "        if side1 == side2 == side3 == side4:\n",
    "            return \"Square\"\n",
    "        elif side1 == side3 and side2 == side4:\n",
    "            return \"Rectangle\"\n",
    "        elif side1 == side2 == side3 == side4:\n",
    "            return \"Rhombus\"\n",
    "        else:\n",
    "            return \"Quadrilateral\"\n",
    "    elif angle1 == angle3 and angle2 == angle4:\n",
    "        if side1 == side3 and side2 == side4:\n",
    "            return \"Parallelogram\"\n",
    "        else:\n",
    "            return \"Quadrilateral\"\n",
    "    else:\n",
    "        return \"Quadrilateral\"\n",
    "\n",
    "# Get input from the user\n",
    "try:\n",
    "    angle1 = float(input(\"Enter the first angle: \"))\n",
    "    angle2 = float(input(\"Enter the second angle: \"))\n",
    "    angle3 = float(input(\"Enter the third angle: \"))\n",
    "    angle4 = float(input(\"Enter the fourth angle: \"))\n",
    "    side1 = float(input(\"Enter the length of the first side: \"))\n",
    "    side2 = float(input(\"Enter the length of the second side: \"))\n",
    "    side3 = float(input(\"Enter the length of the third side: \"))\n",
    "    side4 = float(input(\"Enter the length of the fourth side: \"))\n",
    "\n",
    "    if (\n",
    "        0 < angle1 <= 180 and\n",
    "        0 < angle2 <= 180 and\n",
    "        0 < angle3 <= 180 and\n",
    "        0 < angle4 <= 180 and\n",
    "        side1 > 0 and side2 > 0 and side3 > 0 and side4 > 0\n",
    "    ):\n",
    "        quadrilateral_type = classify_quadrilateral(angle1, angle2, angle3, angle4, side1, side2, side3, side4)\n",
    "        print(f'The quadrilateral is a {quadrilateral_type}.')\n",
    "    else:\n",
    "        print(\"Invalid input. Angles should be in the range (0, 180] and sides should be greater than zero.\")\n",
    "except ValueError:\n",
    "    print(\"Invalid input. Please enter valid numeric values for angles and sides.\")"
   ]
  },
  {
   "cell_type": "code",
   "execution_count": 12,
   "id": "dda85e32-f2a0-4cd0-9b97-b655e4ac541c",
   "metadata": {},
   "outputs": [
    {
     "name": "stdin",
     "output_type": "stream",
     "text": [
      "Enter a month (1-12):  11\n"
     ]
    },
    {
     "name": "stdout",
     "output_type": "stream",
     "text": [
      "The season in the Northern Hemisphere for month 11 is Autumn.\n"
     ]
    }
   ],
   "source": [
    "#29. Write a Python script to determine the season based on a user-provided month using elif statements.\n",
    "\n",
    "# Northern Hemisphere Example:\n",
    "# Get the month from the user\n",
    "try:\n",
    "    month = int(input(\"Enter a month (1-12): \"))\n",
    "\n",
    "    if 1 <= month <= 12:\n",
    "        if month in [12, 1, 2]:\n",
    "            season = \"Winter\"\n",
    "        elif month in [3, 4, 5]:\n",
    "            season = \"Spring\"\n",
    "        elif month in [6, 7, 8]:\n",
    "            season = \"Summer\"\n",
    "        else:\n",
    "            season = \"Autumn\"\n",
    "        print(f'The season in the Northern Hemisphere for month {month} is {season}.')\n",
    "    else:\n",
    "        print(\"Invalid input. Please enter a valid month (1-12).\")\n",
    "except ValueError:\n",
    "    print(\"Invalid input. Please enter a valid numeric month (1-12).\")"
   ]
  },
  {
   "cell_type": "code",
   "execution_count": 13,
   "id": "565e4e6a-6a36-4981-809a-ad8c2f328e3b",
   "metadata": {},
   "outputs": [
    {
     "name": "stdin",
     "output_type": "stream",
     "text": [
      "Enter a month (1-12):  10\n"
     ]
    },
    {
     "name": "stdout",
     "output_type": "stream",
     "text": [
      "The season in the Southern Hemisphere for month 10 is Spring.\n"
     ]
    }
   ],
   "source": [
    "# Southern Hemisphere Example:\n",
    "\n",
    "# Get the month from the user\n",
    "try:\n",
    "    month = int(input(\"Enter a month (1-12): \"))\n",
    "\n",
    "    if 1 <= month <= 12:\n",
    "        if month in [12, 1, 2]:\n",
    "            season = \"Summer\"\n",
    "        elif month in [3, 4, 5]:\n",
    "            season = \"Autumn\"\n",
    "        elif month in [6, 7, 8]:\n",
    "            season = \"Winter\"\n",
    "        else:\n",
    "            season = \"Spring\"\n",
    "        print(f'The season in the Southern Hemisphere for month {month} is {season}.')\n",
    "    else:\n",
    "        print(\"Invalid input. Please enter a valid month (1-12).\")\n",
    "except ValueError:\n",
    "    print(\"Invalid input. Please enter a valid numeric month (1-12).\")"
   ]
  },
  {
   "cell_type": "code",
   "execution_count": 14,
   "id": "afaebbee-4679-4b15-9e78-2f0f2a954a1b",
   "metadata": {},
   "outputs": [
    {
     "name": "stdin",
     "output_type": "stream",
     "text": [
      "Enter a year:  2000\n",
      "Enter a month (1-12):  11\n"
     ]
    },
    {
     "name": "stdout",
     "output_type": "stream",
     "text": [
      "The year 2000 is a leap year and month 11 has 30 days.\n"
     ]
    }
   ],
   "source": [
    "#30. Implement a program to determine the type of a year (leap or common) \n",
    "# and month (30 or 31 days) using elif statements.\n",
    "\n",
    "# Function to determine the type of year (leap or common)\n",
    "def is_leap_year(year):\n",
    "    if (year % 4 == 0 and year % 100 != 0) or (year % 400 == 0):\n",
    "        return True\n",
    "    else:\n",
    "        return False\n",
    "\n",
    "# Get input from the user\n",
    "try:\n",
    "    year = int(input(\"Enter a year: \"))\n",
    "    month = int(input(\"Enter a month (1-12): \"))\n",
    "\n",
    "    if 1 <= month <= 12:\n",
    "        if month in [4, 6, 9, 11]:\n",
    "            days_in_month = 30\n",
    "        elif month == 2:\n",
    "            if is_leap_year(year):\n",
    "                days_in_month = 29\n",
    "            else:\n",
    "                days_in_month = 28\n",
    "        else:\n",
    "            days_in_month = 31\n",
    "\n",
    "        if is_leap_year(year):\n",
    "            year_type = \"leap year\"\n",
    "        else:\n",
    "            year_type = \"common year\"\n",
    "\n",
    "        print(f'The year {year} is a {year_type} and month {month} has {days_in_month} days.')\n",
    "    else:\n",
    "        print(\"Invalid input. Please enter a valid month (1-12).\")\n",
    "except ValueError:\n",
    "    print(\"Invalid input. Please enter valid numeric values for year and month.\")"
   ]
  },
  {
   "cell_type": "code",
   "execution_count": 15,
   "id": "299896d4-5d44-451b-8414-96791afd84c5",
   "metadata": {},
   "outputs": [
    {
     "name": "stdin",
     "output_type": "stream",
     "text": [
      "Enter a number:  5\n"
     ]
    },
    {
     "name": "stdout",
     "output_type": "stream",
     "text": [
      "The number is positive.\n"
     ]
    }
   ],
   "source": [
    "#1. Write a Python program that checks if a given number is positive, negative, or zero.\n",
    "\n",
    "# Get a number from the user\n",
    "number = float(input(\"Enter a number: \"))\n",
    "\n",
    "# Check if the number is positive, negative, or zero\n",
    "if number > 0:\n",
    "    print(\"The number is positive.\")\n",
    "elif number < 0:\n",
    "    print(\"The number is negative.\")\n",
    "else:\n",
    "    print(\"The number is zero.\")"
   ]
  },
  {
   "cell_type": "code",
   "execution_count": 16,
   "id": "7258ac84-419c-463c-b8ca-17318145fd8b",
   "metadata": {},
   "outputs": [
    {
     "name": "stdin",
     "output_type": "stream",
     "text": [
      "Enter your age:  50\n"
     ]
    },
    {
     "name": "stdout",
     "output_type": "stream",
     "text": [
      "You are eligible to vote.\n"
     ]
    }
   ],
   "source": [
    "#2. Create a program to determine if a person is eligible to vote based on their age.\n",
    "\n",
    "# Get the person's age from the user\n",
    "try:\n",
    "    age = int(input(\"Enter your age: \"))\n",
    "\n",
    "    if age >= 18:\n",
    "        print(\"You are eligible to vote.\")\n",
    "    else:\n",
    "        print(\"You are not eligible to vote.\")\n",
    "except ValueError:\n",
    "    print(\"Invalid input. Please enter a valid numeric age.\")"
   ]
  },
  {
   "cell_type": "code",
   "execution_count": 17,
   "id": "1b7b79bf-f893-44e4-b25a-f7f606ddc8a5",
   "metadata": {},
   "outputs": [
    {
     "name": "stdin",
     "output_type": "stream",
     "text": [
      "Enter the first number:  50\n",
      "Enter the second number:  70\n"
     ]
    },
    {
     "name": "stdout",
     "output_type": "stream",
     "text": [
      "The maximum number is: 70.0\n"
     ]
    }
   ],
   "source": [
    "#3. Write a program to find the maximum of two given numbers using conditional statements.\n",
    "\n",
    "# Get two numbers from the user\n",
    "try:\n",
    "    number1 = float(input(\"Enter the first number: \"))\n",
    "    number2 = float(input(\"Enter the second number: \"))\n",
    "\n",
    "    if number1 > number2:\n",
    "        maximum = number1\n",
    "    else:\n",
    "        maximum = number2\n",
    "\n",
    "    print(f\"The maximum number is: {maximum}\")\n",
    "except ValueError:\n",
    "    print(\"Invalid input. Please enter valid numeric values for both numbers.\")"
   ]
  },
  {
   "cell_type": "code",
   "execution_count": 18,
   "id": "d812dad7-18e9-4484-b459-c5a253958efb",
   "metadata": {},
   "outputs": [
    {
     "name": "stdin",
     "output_type": "stream",
     "text": [
      "Enter the exam score:  80\n"
     ]
    },
    {
     "name": "stdout",
     "output_type": "stream",
     "text": [
      "Your grade is: B\n"
     ]
    }
   ],
   "source": [
    "#4. Develop a program that calculates the grade of a student based on their exam score.\n",
    "\n",
    "# Function to calculate the grade\n",
    "def calculate_grade(score):\n",
    "    if 90 <= score <= 100:\n",
    "        return \"A\"\n",
    "    elif 80 <= score < 90:\n",
    "        return \"B\"\n",
    "    elif 70 <= score < 80:\n",
    "        return \"C\"\n",
    "    elif 60 <= score < 70:\n",
    "        return \"D\"\n",
    "    elif 0 <= score < 60:\n",
    "        return \"F\"\n",
    "    else:\n",
    "        return \"Invalid score\"\n",
    "\n",
    "# Get the exam score from the user\n",
    "try:\n",
    "    exam_score = float(input(\"Enter the exam score: \"))\n",
    "\n",
    "    if 0 <= exam_score <= 100:\n",
    "        grade = calculate_grade(exam_score)\n",
    "        print(f'Your grade is: {grade}')\n",
    "    else:\n",
    "        print(\"Invalid score. Please enter a score between 0 and 100.\")\n",
    "except ValueError:\n",
    "    print(\"Invalid input. Please enter a valid numeric exam score.\")"
   ]
  },
  {
   "cell_type": "code",
   "execution_count": 19,
   "id": "2838ece1-4df8-4459-a96e-58267999b157",
   "metadata": {},
   "outputs": [
    {
     "name": "stdin",
     "output_type": "stream",
     "text": [
      "Enter a year:  2000\n"
     ]
    },
    {
     "name": "stdout",
     "output_type": "stream",
     "text": [
      "2000 is a leap year.\n"
     ]
    }
   ],
   "source": [
    "#5. Create a program that checks if a year is a leap year or not.\n",
    "\n",
    "# Get the year from the user\n",
    "try:\n",
    "    year = int(input(\"Enter a year: \"))\n",
    "\n",
    "    if (year % 4 == 0 and year % 100 != 0) or (year % 400 == 0):\n",
    "        print(f\"{year} is a leap year.\")\n",
    "    else:\n",
    "        print(f\"{year} is not a leap year.\")\n",
    "except ValueError:\n",
    "    print(\"Invalid input. Please enter a valid numeric year.\")"
   ]
  },
  {
   "cell_type": "code",
   "execution_count": 20,
   "id": "5b2eeece-2f20-4568-b36b-de003213264f",
   "metadata": {},
   "outputs": [
    {
     "name": "stdin",
     "output_type": "stream",
     "text": [
      "Enter the length of the first side:  5\n",
      "Enter the length of the second side:  7\n",
      "Enter the length of the third side:  9\n"
     ]
    },
    {
     "name": "stdout",
     "output_type": "stream",
     "text": [
      "It's a scalene triangle.\n"
     ]
    }
   ],
   "source": [
    "#6. Write a program to classify a triangle based on its sides' lengths.\n",
    "\n",
    "# Get the lengths of the three sides of the triangle from the user\n",
    "try:\n",
    "    side1 = float(input(\"Enter the length of the first side: \"))\n",
    "    side2 = float(input(\"Enter the length of the second side: \"))\n",
    "    side3 = float(input(\"Enter the length of the third side: \"))\n",
    "\n",
    "    if side1 + side2 > side3 and side1 + side3 > side2 and side2 + side3 > side1:\n",
    "        if side1 == side2 == side3:\n",
    "            print(\"It's an equilateral triangle.\")\n",
    "        elif side1 == side2 or side1 == side3 or side2 == side3:\n",
    "            print(\"It's an isosceles triangle.\")\n",
    "        else:\n",
    "            print(\"It's a scalene triangle.\")\n",
    "    else:\n",
    "        print(\"These side lengths do not form a valid triangle.\")\n",
    "except ValueError:\n",
    "    print(\"Invalid input. Please enter valid numeric values for the side lengths.\")"
   ]
  },
  {
   "cell_type": "code",
   "execution_count": 21,
   "id": "25e25e57-0713-4967-921d-a7ebf582f403",
   "metadata": {},
   "outputs": [
    {
     "name": "stdin",
     "output_type": "stream",
     "text": [
      "Enter the first number:  5\n",
      "Enter the second number:  7\n",
      "Enter the third number:  9\n"
     ]
    },
    {
     "name": "stdout",
     "output_type": "stream",
     "text": [
      "The largest number is: 9.0\n"
     ]
    }
   ],
   "source": [
    "#7. Build a program that determines the largest of three given numbers.\n",
    "\n",
    "# Get three numbers from the user\n",
    "try:\n",
    "    number1 = float(input(\"Enter the first number: \"))\n",
    "    number2 = float(input(\"Enter the second number: \"))\n",
    "    number3 = float(input(\"Enter the third number: \"))\n",
    "\n",
    "    largest = max(number1, number2, number3)\n",
    "\n",
    "    print(f'The largest number is: {largest}')\n",
    "except ValueError:\n",
    "    print(\"Invalid input. Please enter valid numeric values for all three numbers.\")"
   ]
  },
  {
   "cell_type": "code",
   "execution_count": 22,
   "id": "660fc13d-1c57-4ba3-9c64-efcc24ab04c1",
   "metadata": {},
   "outputs": [
    {
     "name": "stdin",
     "output_type": "stream",
     "text": [
      "Enter a character:  @\n"
     ]
    },
    {
     "name": "stdout",
     "output_type": "stream",
     "text": [
      "Invalid input. Please enter a single alphabetic character.\n"
     ]
    }
   ],
   "source": [
    "#8. Develop a program that checks whether a character is a vowel or a consonant.\n",
    "\n",
    "# Get a character from the user\n",
    "character = input(\"Enter a character: \")\n",
    "\n",
    "# Check if the character is a vowel or a consonant\n",
    "if len(character) == 1 and character.isalpha():\n",
    "    if character in \"AEIOUaeiou\":\n",
    "        print(f\"{character} is a vowel.\")\n",
    "    else:\n",
    "        print(f\"{character} is a consonant.\")\n",
    "else:\n",
    "    print(\"Invalid input. Please enter a single alphabetic character.\")"
   ]
  },
  {
   "cell_type": "code",
   "execution_count": 23,
   "id": "6c4f87b0-513b-40ce-87c7-7dbfeb40e29e",
   "metadata": {},
   "outputs": [
    {
     "name": "stdin",
     "output_type": "stream",
     "text": [
      "Enter the number of items in your shopping cart:  5\n",
      "Enter the price of item 1: $ 50\n",
      "Enter the price of item 2: $ 66\n",
      "Enter the price of item 3: $ 45\n",
      "Enter the price of item 4: $ 98\n",
      "Enter the price of item 5: $ 100\n"
     ]
    },
    {
     "name": "stdout",
     "output_type": "stream",
     "text": [
      "Subtotal: $359.00\n",
      "Discount: $35.90\n",
      "Total cost: $323.10\n"
     ]
    }
   ],
   "source": [
    "#9. Create a program to calculate the total cost of a shopping cart based on discounts.\n",
    "\n",
    "# Function to calculate the total cost after applying a discount\n",
    "def calculate_total_cost(subtotal):\n",
    "    discount_rate = 0.1  # 10% discount\n",
    "    if subtotal >= 100:\n",
    "        discount = subtotal * discount_rate\n",
    "    else:\n",
    "        discount = 0\n",
    "    total_cost = subtotal - discount\n",
    "    return total_cost\n",
    "\n",
    "# Get input from the user\n",
    "try:\n",
    "    num_items = int(input(\"Enter the number of items in your shopping cart: \"))\n",
    "    \n",
    "    subtotal = 0\n",
    "\n",
    "    for i in range(num_items):\n",
    "        item_price = float(input(f\"Enter the price of item {i + 1}: $\"))\n",
    "        subtotal += item_price\n",
    "\n",
    "    total_cost = calculate_total_cost(subtotal)\n",
    "    \n",
    "    print(f\"Subtotal: ${subtotal:.2f}\")\n",
    "    print(f\"Discount: ${subtotal * 0.1:.2f}\")\n",
    "    print(f\"Total cost: ${total_cost:.2f}\")\n",
    "except ValueError:\n",
    "    print(\"Invalid input. Please enter valid numeric values for item prices and the number of items.\")"
   ]
  },
  {
   "cell_type": "code",
   "execution_count": 24,
   "id": "3c5c7f51-f6e6-4e0f-aade-551e1bc2c86e",
   "metadata": {},
   "outputs": [
    {
     "name": "stdin",
     "output_type": "stream",
     "text": [
      "Enter a number:  9\n"
     ]
    },
    {
     "name": "stdout",
     "output_type": "stream",
     "text": [
      "9 is odd.\n"
     ]
    }
   ],
   "source": [
    "#10. Write a program that checks if a given number is even or odd.\n",
    "\n",
    "# Get a number from the user\n",
    "number = int(input(\"Enter a number: \"))\n",
    "\n",
    "# Check if the number is even or odd\n",
    "if number % 2 == 0:\n",
    "    print(f\"{number} is even.\")\n",
    "else:\n",
    "    print(f\"{number} is odd.\")"
   ]
  },
  {
   "cell_type": "code",
   "execution_count": 25,
   "id": "c742186f-7edc-4b40-8555-32fc1411b1b2",
   "metadata": {},
   "outputs": [
    {
     "name": "stdin",
     "output_type": "stream",
     "text": [
      "Enter the coefficient a:  5\n",
      "Enter the coefficient b:  7\n",
      "Enter the coefficient c:  9\n"
     ]
    },
    {
     "name": "stdout",
     "output_type": "stream",
     "text": [
      "The roots are complex: (-0.7+1.1445523142259597j) and (-0.7-1.1445523142259597j)\n"
     ]
    }
   ],
   "source": [
    "#11. Write a program that calculates the roots of a quadratic equation .\n",
    "\n",
    "# Import the math module to access the sqrt function\n",
    "import math\n",
    "\n",
    "# Get the coefficients (a, b, and c) from the user\n",
    "try:\n",
    "    a = float(input(\"Enter the coefficient a: \"))\n",
    "    b = float(input(\"Enter the coefficient b: \"))\n",
    "    c = float(input(\"Enter the coefficient c: \"))\n",
    "\n",
    "    # Calculate the discriminant (the value inside the square root)\n",
    "    discriminant = b**2 - 4*a*c\n",
    "\n",
    "    if discriminant > 0:\n",
    "        # Two real and distinct roots\n",
    "        root1 = (-b + math.sqrt(discriminant)) / (2*a)\n",
    "        root2 = (-b - math.sqrt(discriminant)) / (2*a)\n",
    "        print(f\"The roots are real and distinct: {root1} and {root2}\")\n",
    "    elif discriminant == 0:\n",
    "        # One real root (double root)\n",
    "        root = -b / (2*a)\n",
    "        print(f\"The root is real and equal: {root}\")\n",
    "    else:\n",
    "        # Complex roots\n",
    "        real_part = -b / (2*a)\n",
    "        imaginary_part = math.sqrt(-discriminant) / (2*a)\n",
    "        root1 = complex(real_part, imaginary_part)\n",
    "        root2 = complex(real_part, -imaginary_part)\n",
    "        print(f\"The roots are complex: {root1} and {root2}\")\n",
    "except ValueError:\n",
    "    print(\"Invalid input. Please enter valid numeric coefficients for a, b, and c.\")"
   ]
  },
  {
   "cell_type": "code",
   "execution_count": 26,
   "id": "69fb3668-fec7-4879-865b-3f8e47ea1218",
   "metadata": {},
   "outputs": [
    {
     "name": "stdin",
     "output_type": "stream",
     "text": [
      "Enter a day number (1-7):  2\n"
     ]
    },
    {
     "name": "stdout",
     "output_type": "stream",
     "text": [
      "Day 2 corresponds to Tuesday.\n"
     ]
    }
   ],
   "source": [
    "#12. Create a program that determines the day of the week based on the day number (1-7).\n",
    "\n",
    "# Get the day number from the user\n",
    "try:\n",
    "    day_number = int(input(\"Enter a day number (1-7): \"))\n",
    "\n",
    "    if 1 <= day_number <= 7:\n",
    "        days = [\"Monday\", \"Tuesday\", \"Wednesday\", \"Thursday\", \"Friday\", \"Saturday\", \"Sunday\"]\n",
    "        day_of_week = days[day_number - 1]\n",
    "        print(f\"Day {day_number} corresponds to {day_of_week}.\")\n",
    "    else:\n",
    "        print(\"Invalid input. Please enter a valid day number (1-7).\")\n",
    "except ValueError:\n",
    "    print(\"Invalid input. Please enter a valid numeric day number.\")"
   ]
  },
  {
   "cell_type": "code",
   "execution_count": 27,
   "id": "5e1a4f5d-c07c-409b-9093-cc2dcf408b4b",
   "metadata": {},
   "outputs": [
    {
     "name": "stdin",
     "output_type": "stream",
     "text": [
      "Enter a non-negative integer:  -5\n"
     ]
    },
    {
     "name": "stdout",
     "output_type": "stream",
     "text": [
      "Factorial is not defined for negative numbers.\n"
     ]
    }
   ],
   "source": [
    "#13. Develop a program that calculates the factorial of a given number using recursion.\n",
    "\n",
    "# Function to calculate the factorial of a number using recursion\n",
    "def factorial(n):\n",
    "    if n == 0:\n",
    "        return 1\n",
    "    else:\n",
    "        return n * factorial(n - 1)\n",
    "\n",
    "try:\n",
    "    number = int(input(\"Enter a non-negative integer: \"))\n",
    "\n",
    "    if number < 0:\n",
    "        print(\"Factorial is not defined for negative numbers.\")\n",
    "    else:\n",
    "        result = factorial(number)\n",
    "        print(f\"The factorial of {number} is {result}\")\n",
    "except ValueError:\n",
    "    print(\"Invalid input. Please enter a non-negative integer.\")"
   ]
  },
  {
   "cell_type": "code",
   "execution_count": 28,
   "id": "151eb15b-a797-4370-b210-723103f4bb7f",
   "metadata": {},
   "outputs": [
    {
     "name": "stdin",
     "output_type": "stream",
     "text": [
      "Enter the first number:  5\n",
      "Enter the second number:  7\n",
      "Enter the third number:  9\n"
     ]
    },
    {
     "name": "stdout",
     "output_type": "stream",
     "text": [
      "The largest number is: 9.0\n"
     ]
    }
   ],
   "source": [
    "#14. Write a program to find the largest among three numbers without using the `max()` function.\n",
    "\n",
    "# Get three numbers from the user\n",
    "try:\n",
    "    number1 = float(input(\"Enter the first number: \"))\n",
    "    number2 = float(input(\"Enter the second number: \"))\n",
    "    number3 = float(input(\"Enter the third number: \"))\n",
    "\n",
    "    largest = number1  # Assume the first number is the largest initially\n",
    "\n",
    "    if number2 > largest:\n",
    "        largest = number2\n",
    "    if number3 > largest:\n",
    "        largest = number3\n",
    "\n",
    "    print(f'The largest number is: {largest}')\n",
    "except ValueError:\n",
    "    print(\"Invalid input. Please enter valid numeric values for all three numbers.\")"
   ]
  },
  {
   "cell_type": "code",
   "execution_count": 29,
   "id": "8dcf00cc-0f2c-4bcc-9db3-6db5be5f2df7",
   "metadata": {},
   "outputs": [
    {
     "name": "stdout",
     "output_type": "stream",
     "text": [
      "\n",
      "ATM Menu:\n",
      "1. Check Balance\n",
      "2. Make a Deposit\n",
      "3. Make a Withdrawal\n",
      "4. Quit\n"
     ]
    },
    {
     "name": "stdin",
     "output_type": "stream",
     "text": [
      "Enter your choice (1/2/3/4):  3\n",
      "Enter the withdrawal amount: $ 500\n"
     ]
    },
    {
     "name": "stdout",
     "output_type": "stream",
     "text": [
      "Withdrawn: $500.00\n",
      "\n",
      "ATM Menu:\n",
      "1. Check Balance\n",
      "2. Make a Deposit\n",
      "3. Make a Withdrawal\n",
      "4. Quit\n"
     ]
    },
    {
     "name": "stdin",
     "output_type": "stream",
     "text": [
      "Enter your choice (1/2/3/4):  4\n"
     ]
    },
    {
     "name": "stdout",
     "output_type": "stream",
     "text": [
      "Thank you for using the ATM. Goodbye!\n"
     ]
    }
   ],
   "source": [
    "#15. Create a program that simulates a basic ATM transaction menu.\n",
    "\n",
    "# Initial account balance\n",
    "balance = 1000\n",
    "\n",
    "# Function to display the ATM menu\n",
    "def display_menu():\n",
    "    print(\"\\nATM Menu:\")\n",
    "    print(\"1. Check Balance\")\n",
    "    print(\"2. Make a Deposit\")\n",
    "    print(\"3. Make a Withdrawal\")\n",
    "    print(\"4. Quit\")\n",
    "\n",
    "# Function to check account balance\n",
    "def check_balance():\n",
    "    print(f\"Your account balance is: ${balance:.2f}\")\n",
    "\n",
    "# Function to make a deposit\n",
    "def make_deposit():\n",
    "    global balance\n",
    "    deposit_amount = float(input(\"Enter the deposit amount: $\"))\n",
    "    if deposit_amount > 0:\n",
    "        balance += deposit_amount\n",
    "        print(f\"Deposited: ${deposit_amount:.2f}\")\n",
    "    else:\n",
    "        print(\"Invalid deposit amount. Please enter a positive value.\")\n",
    "\n",
    "# Function to make a withdrawal\n",
    "def make_withdrawal():\n",
    "    global balance\n",
    "    withdrawal_amount = float(input(\"Enter the withdrawal amount: $\"))\n",
    "    if 0 < withdrawal_amount <= balance:\n",
    "        balance -= withdrawal_amount\n",
    "        print(f\"Withdrawn: ${withdrawal_amount:.2f}\")\n",
    "    else:\n",
    "        print(\"Invalid withdrawal amount. Please enter a positive value within your balance.\")\n",
    "\n",
    "# Main program loop\n",
    "while True:\n",
    "    display_menu()\n",
    "    choice = input(\"Enter your choice (1/2/3/4): \")\n",
    "\n",
    "    if choice == \"1\":\n",
    "        check_balance()\n",
    "    elif choice == \"2\":\n",
    "        make_deposit()\n",
    "    elif choice == \"3\":\n",
    "        make_withdrawal()\n",
    "    elif choice == \"4\":\n",
    "        print(\"Thank you for using the ATM. Goodbye!\")\n",
    "        break\n",
    "    else:\n",
    "        print(\"Invalid choice. Please select a valid option (1/2/3/4).\")"
   ]
  },
  {
   "cell_type": "code",
   "execution_count": 30,
   "id": "37d29576-818b-4856-b330-ba439d239715",
   "metadata": {},
   "outputs": [
    {
     "name": "stdin",
     "output_type": "stream",
     "text": [
      "Enter a string:  mood\n"
     ]
    },
    {
     "name": "stdout",
     "output_type": "stream",
     "text": [
      "'mood' is not a palindrome.\n"
     ]
    }
   ],
   "source": [
    "#16. Build a program that checks if a given string is a palindrome or not.\n",
    "\n",
    "# Function to check if a string is a palindrome\n",
    "def is_palindrome(input_string):\n",
    "    # Remove spaces and convert to lowercase for case-insensitive comparison\n",
    "    cleaned_string = input_string.replace(\" \", \"\").lower()\n",
    "    return cleaned_string == cleaned_string[::-1]\n",
    "\n",
    "# Get a string from the user\n",
    "input_string = input(\"Enter a string: \")\n",
    "\n",
    "if is_palindrome(input_string):\n",
    "    print(f\"'{input_string}' is a palindrome.\")\n",
    "else:\n",
    "    print(f\"'{input_string}' is not a palindrome.\")"
   ]
  },
  {
   "cell_type": "code",
   "execution_count": 31,
   "id": "85a76619-f39f-435f-8cb0-86e9c83799ae",
   "metadata": {},
   "outputs": [
    {
     "name": "stdin",
     "output_type": "stream",
     "text": [
      "Enter a list of numbers separated by spaces:  10 20 30 40 50 60 70\n"
     ]
    },
    {
     "name": "stdout",
     "output_type": "stream",
     "text": [
      "The average (excluding the extremes) is: 40.00\n"
     ]
    }
   ],
   "source": [
    "#17. Write a program that calculates the average of a list of numbers, \n",
    "# excluding the smallest and largest values.\n",
    "\n",
    "# Function to calculate the average of a list of numbers excluding the smallest and largest values\n",
    "def average_without_extremes(numbers):\n",
    "    if len(numbers) < 3:\n",
    "        return None  # Not enough numbers to exclude extremes\n",
    "\n",
    "    numbers.sort()  # Sort the list in ascending order\n",
    "    numbers = numbers[1:-1]  # Exclude the smallest and largest values\n",
    "    return sum(numbers) / len(numbers)\n",
    "\n",
    "# Get a list of numbers from the user\n",
    "try:\n",
    "    numbers = input(\"Enter a list of numbers separated by spaces: \").split()\n",
    "    numbers = [float(num) for num in numbers]  # Convert the input to a list of floats\n",
    "\n",
    "    average = average_without_extremes(numbers)\n",
    "    \n",
    "    if average is not None:\n",
    "        print(f\"The average (excluding the extremes) is: {average:.2f}\")\n",
    "    else:\n",
    "        print(\"Not enough numbers to calculate the average (need at least 3 numbers).\")\n",
    "except (ValueError, IndexError):\n",
    "    print(\"Invalid input. Please enter a list of numeric values separated by spaces.\")"
   ]
  },
  {
   "cell_type": "code",
   "execution_count": 32,
   "id": "3d583225-9d56-4255-a7e6-d9ea785d87dd",
   "metadata": {},
   "outputs": [
    {
     "name": "stdin",
     "output_type": "stream",
     "text": [
      "Enter the temperature in Celsius:  50\n"
     ]
    },
    {
     "name": "stdout",
     "output_type": "stream",
     "text": [
      "50.0 degrees Celsius is equal to 122.00 degrees Fahrenheit.\n"
     ]
    }
   ],
   "source": [
    "#18. Develop a program that converts a given temperature from Celsius to Fahrenheit.\n",
    "\n",
    "# Function to convert Celsius to Fahrenheit\n",
    "def celsius_to_fahrenheit(celsius):\n",
    "    return (celsius * 9/5) + 32\n",
    "\n",
    "# Get the temperature in Celsius from the user\n",
    "try:\n",
    "    celsius = float(input(\"Enter the temperature in Celsius: \"))\n",
    "    \n",
    "    fahrenheit = celsius_to_fahrenheit(celsius)\n",
    "    \n",
    "    print(f\"{celsius} degrees Celsius is equal to {fahrenheit:.2f} degrees Fahrenheit.\")\n",
    "except ValueError:\n",
    "    print(\"Invalid input. Please enter a valid numeric temperature in Celsius.\")"
   ]
  },
  {
   "cell_type": "code",
   "execution_count": 33,
   "id": "fe393be5-7168-4110-817c-ce2dc4f0ea95",
   "metadata": {},
   "outputs": [
    {
     "name": "stdout",
     "output_type": "stream",
     "text": [
      "Options:\n",
      "Enter 'add' for addition\n",
      "Enter 'subtract' for subtraction\n",
      "Enter 'multiply' for multiplication\n",
      "Enter 'divide' for division\n",
      "Enter 'quit' to end the program\n"
     ]
    },
    {
     "name": "stdin",
     "output_type": "stream",
     "text": [
      ":  add\n",
      "Enter the first number:  5\n",
      "Enter the second number:  7\n"
     ]
    },
    {
     "name": "stdout",
     "output_type": "stream",
     "text": [
      "Result: 5.0 + 7.0 = 12.0\n"
     ]
    },
    {
     "name": "stdin",
     "output_type": "stream",
     "text": [
      ":  quit\n"
     ]
    }
   ],
   "source": [
    "#19. Create a program that simulates a basic calculator for addition, subtraction, multiplication, and division.\n",
    "\n",
    "# Function to perform addition\n",
    "def add(x, y):\n",
    "    return x + y\n",
    "\n",
    "# Function to perform subtraction\n",
    "def subtract(x, y):\n",
    "    return x - y\n",
    "\n",
    "# Function to perform multiplication\n",
    "def multiply(x, y):\n",
    "    return x * y\n",
    "\n",
    "# Function to perform division\n",
    "def divide(x, y):\n",
    "    if y == 0:\n",
    "        return \"Cannot divide by zero\"\n",
    "    return x / y\n",
    "\n",
    "# Display the calculator menu\n",
    "print(\"Options:\")\n",
    "print(\"Enter 'add' for addition\")\n",
    "print(\"Enter 'subtract' for subtraction\")\n",
    "print(\"Enter 'multiply' for multiplication\")\n",
    "print(\"Enter 'divide' for division\")\n",
    "print(\"Enter 'quit' to end the program\")\n",
    "\n",
    "# Main calculator loop\n",
    "while True:\n",
    "    # Get user input\n",
    "    user_input = input(\": \")\n",
    "\n",
    "    if user_input == \"quit\":\n",
    "        break\n",
    "\n",
    "    if user_input in (\"add\", \"subtract\", \"multiply\", \"divide\"):\n",
    "        num1 = float(input(\"Enter the first number: \"))\n",
    "        num2 = float(input(\"Enter the second number: \"))\n",
    "\n",
    "        if user_input == \"add\":\n",
    "            print(f\"Result: {num1} + {num2} = {add(num1, num2)}\")\n",
    "        elif user_input == \"subtract\":\n",
    "            print(f\"Result: {num1} - {num2} = {subtract(num1, num2)}\")\n",
    "        elif user_input == \"multiply\":\n",
    "            print(f\"Result: {num1} * {num2} = {multiply(num1, num2)}\")\n",
    "        elif user_input == \"divide\":\n",
    "            result = divide(num1, num2)\n",
    "            if isinstance(result, str):\n",
    "                print(result)\n",
    "            else:\n",
    "                print(f\"Result: {num1} / {num2} = {result}\")\n",
    "    else:\n",
    "        print(\"Invalid input. Please enter a valid operation (add, subtract, multiply, divide) or 'quit' to exit.\")"
   ]
  },
  {
   "cell_type": "code",
   "execution_count": 34,
   "id": "a5eb678b-8863-4990-9fdf-a95c6bd40eec",
   "metadata": {},
   "outputs": [
    {
     "name": "stdin",
     "output_type": "stream",
     "text": [
      "Enter the coefficient a:  5\n",
      "Enter the coefficient b:  7\n",
      "Enter the coefficient c:  9\n",
      "Enter the coefficient d:  11\n"
     ]
    },
    {
     "name": "stdout",
     "output_type": "stream",
     "text": [
      "The roots of the cubic equation are:\n",
      "Root 1: 0.444835+1.012529j\n"
     ]
    }
   ],
   "source": [
    "#20. Write a program that determines the roots of a cubic equation using the Cardano formula.\n",
    "\n",
    "import math\n",
    "\n",
    "# Function to solve a cubic equation using Cardano's method\n",
    "def solve_cubic(a, b, c, d):\n",
    "    if a == 0:\n",
    "        return \"Not a cubic equation\"\n",
    "\n",
    "    p = c / a - (b**2) / (3 * a**2)\n",
    "    q = (2 * (b**3)) / (27 * a**3) - (b * c) / (3 * a**2) + d / a\n",
    "\n",
    "    discriminant = (q**2) / 4 + (p**3) / 27\n",
    "\n",
    "    if discriminant > 0:\n",
    "        u = (-q / 2 + math.sqrt(discriminant))**(1/3)\n",
    "        v = (-q / 2 - math.sqrt(discriminant))**(1/3)\n",
    "        real_root = u + v - b / (3 * a)\n",
    "        return [real_root]\n",
    "\n",
    "    elif discriminant == 0:\n",
    "        u = (-q / 2)**(1/3)\n",
    "        real_root = 2 * u - b / (3 * a)\n",
    "        imaginary_root = -u - b / (3 * a)\n",
    "        return [real_root, imaginary_root]\n",
    "\n",
    "    else:\n",
    "        rho = math.sqrt((-(p**3) / 27))\n",
    "        theta = math.acos(-q / (2 * rho))\n",
    "        root1 = 2 * math.copysign(1, q) * math.sqrt(rho) * math.cos(theta / 3) - b / (3 * a)\n",
    "        root2 = 2 * math.copysign(1, q) * math.sqrt(rho) * math.cos((theta + 2 * math.pi) / 3) - b / (3 * a)\n",
    "        root3 = 2 * math.copysign(1, q) * math.sqrt(rho) * math.cos((theta + 4 * math.pi) / 3) - b / (3 * a)\n",
    "        return [root1, root2, root3]\n",
    "\n",
    "# Get the coefficients of the cubic equation from the user\n",
    "try:\n",
    "    a = float(input(\"Enter the coefficient a: \"))\n",
    "    b = float(input(\"Enter the coefficient b: \"))\n",
    "    c = float(input(\"Enter the coefficient c: \"))\n",
    "    d = float(input(\"Enter the coefficient d: \"))\n",
    "\n",
    "    roots = solve_cubic(a, b, c, d)\n",
    "\n",
    "    if isinstance(roots, list):\n",
    "        print(\"The roots of the cubic equation are:\")\n",
    "        for i, root in enumerate(roots):\n",
    "            print(f\"Root {i + 1}: {root:.6f}\")\n",
    "    else:\n",
    "        print(roots)\n",
    "except ValueError:\n",
    "    print(\"Invalid input. Please enter valid numeric coefficients for a, b, c, and d.\")"
   ]
  },
  {
   "cell_type": "code",
   "execution_count": 35,
   "id": "b7f422e1-a197-41e0-9c99-e1d45a12c118",
   "metadata": {},
   "outputs": [
    {
     "name": "stdin",
     "output_type": "stream",
     "text": [
      "Enter your annual income: $ 50000\n"
     ]
    },
    {
     "name": "stdout",
     "output_type": "stream",
     "text": [
      "Your income tax is: $10000.00\n"
     ]
    }
   ],
   "source": [
    "#21. Create a program that calculates the income tax based on the user's income and tax brackets.\n",
    "\n",
    "# Function to calculate income tax based on tax brackets\n",
    "def calculate_income_tax(income):\n",
    "    # Define tax brackets and their corresponding tax rates\n",
    "    tax_brackets = [(10000, 0.10), (30000, 0.20), (70000, 0.30)]\n",
    "    \n",
    "    total_tax = 0\n",
    "    remaining_income = income\n",
    "\n",
    "    for bracket in tax_brackets:\n",
    "        bracket_income, tax_rate = bracket\n",
    "        if remaining_income <= 0:\n",
    "            break\n",
    "        if remaining_income <= bracket_income:\n",
    "            total_tax += remaining_income * tax_rate\n",
    "            break\n",
    "        else:\n",
    "            total_tax += bracket_income * tax_rate\n",
    "            remaining_income -= bracket_income\n",
    "\n",
    "    return total_tax\n",
    "\n",
    "# Get the user's income\n",
    "try:\n",
    "    income = float(input(\"Enter your annual income: $\"))\n",
    "\n",
    "    if income >= 0:\n",
    "        income_tax = calculate_income_tax(income)\n",
    "        print(f\"Your income tax is: ${income_tax:.2f}\")\n",
    "    else:\n",
    "        print(\"Invalid income. Please enter a non-negative income amount.\")\n",
    "except ValueError:\n",
    "    print(\"Invalid input. Please enter a valid numeric income amount.\")"
   ]
  },
  {
   "cell_type": "code",
   "execution_count": 36,
   "id": "eb97e6fb-34d7-4a67-bb15-3a8bcf9fe7c4",
   "metadata": {},
   "outputs": [
    {
     "name": "stdin",
     "output_type": "stream",
     "text": [
      "Enter your choice (rock/paper/scissors) or 'quit' to exit:  rock\n"
     ]
    },
    {
     "name": "stdout",
     "output_type": "stream",
     "text": [
      "Computer chooses: scissors\n",
      "You win!\n"
     ]
    },
    {
     "name": "stdin",
     "output_type": "stream",
     "text": [
      "Enter your choice (rock/paper/scissors) or 'quit' to exit:  paper\n"
     ]
    },
    {
     "name": "stdout",
     "output_type": "stream",
     "text": [
      "Computer chooses: scissors\n",
      "Computer wins!\n"
     ]
    },
    {
     "name": "stdin",
     "output_type": "stream",
     "text": [
      "Enter your choice (rock/paper/scissors) or 'quit' to exit:  scissors\n"
     ]
    },
    {
     "name": "stdout",
     "output_type": "stream",
     "text": [
      "Computer chooses: paper\n",
      "You win!\n"
     ]
    },
    {
     "name": "stdin",
     "output_type": "stream",
     "text": [
      "Enter your choice (rock/paper/scissors) or 'quit' to exit:  quit\n"
     ]
    }
   ],
   "source": [
    "#22. Write a program that simulates a rock-paper-scissors game against the computer.\n",
    "\n",
    "import random\n",
    "\n",
    "# Function to get the computer's choice\n",
    "def get_computer_choice():\n",
    "    choices = [\"rock\", \"paper\", \"scissors\"]\n",
    "    return random.choice(choices)\n",
    "\n",
    "# Function to determine the winner\n",
    "def determine_winner(player_choice, computer_choice):\n",
    "    if player_choice == computer_choice:\n",
    "        return \"It's a tie!\"\n",
    "    elif (player_choice == \"rock\" and computer_choice == \"scissors\") or \\\n",
    "         (player_choice == \"paper\" and computer_choice == \"rock\") or \\\n",
    "         (player_choice == \"scissors\" and computer_choice == \"paper\"):\n",
    "        return \"You win!\"\n",
    "    else:\n",
    "        return \"Computer wins!\"\n",
    "\n",
    "# Main game loop\n",
    "while True:\n",
    "    player_choice = input(\"Enter your choice (rock/paper/scissors) or 'quit' to exit: \").lower()\n",
    "    \n",
    "    if player_choice == \"quit\":\n",
    "        break\n",
    "    \n",
    "    if player_choice in [\"rock\", \"paper\", \"scissors\"]:\n",
    "        computer_choice = get_computer_choice()\n",
    "        print(f\"Computer chooses: {computer_choice}\")\n",
    "        result = determine_winner(player_choice, computer_choice)\n",
    "        print(result)\n",
    "    else:\n",
    "        print(\"Invalid choice. Please enter 'rock', 'paper', 'scissors', or 'quit' to exit.\")"
   ]
  },
  {
   "cell_type": "code",
   "execution_count": 37,
   "id": "bbeae70e-1906-4df1-881d-d89be689c6a7",
   "metadata": {},
   "outputs": [
    {
     "name": "stdin",
     "output_type": "stream",
     "text": [
      "Enter the password length:  10\n",
      "Include lowercase letters? (yes/no):  godisgreatyes\n",
      "Include uppercase letters? (yes/no):  no\n",
      "Include digits? (yes/no):  yes\n",
      "Include special characters? (yes/no):  yes\n"
     ]
    },
    {
     "name": "stdout",
     "output_type": "stream",
     "text": [
      "Generated password: @3))*[`*><\n"
     ]
    }
   ],
   "source": [
    "#23. Develop a program that generates a random password based on user preferences (length, complexity).\n",
    "\n",
    "import random\n",
    "import string\n",
    "\n",
    "# Function to generate a random password\n",
    "def generate_password(length, use_lowercase, use_uppercase, use_digits, use_special_chars):\n",
    "    characters = \"\"\n",
    "    \n",
    "    if use_lowercase:\n",
    "        characters += string.ascii_lowercase\n",
    "    if use_uppercase:\n",
    "        characters += string.ascii_uppercase\n",
    "    if use_digits:\n",
    "        characters += string.digits\n",
    "    if use_special_chars:\n",
    "        characters += string.punctuation\n",
    "\n",
    "    if not characters:\n",
    "        return \"No characters selected for the password.\"\n",
    "    \n",
    "    password = ''.join(random.choice(characters) for _ in range(length))\n",
    "    return password\n",
    "\n",
    "# Get user preferences for the password\n",
    "try:\n",
    "    length = int(input(\"Enter the password length: \"))\n",
    "    use_lowercase = input(\"Include lowercase letters? (yes/no): \").strip().lower() == \"yes\"\n",
    "    use_uppercase = input(\"Include uppercase letters? (yes/no): \").strip().lower() == \"yes\"\n",
    "    use_digits = input(\"Include digits? (yes/no): \").strip().lower() == \"yes\"\n",
    "    use_special_chars = input(\"Include special characters? (yes/no): \").strip().lower() == \"yes\"\n",
    "\n",
    "    password = generate_password(length, use_lowercase, use_uppercase, use_digits, use_special_chars)\n",
    "    print(f\"Generated password: {password}\")\n",
    "except ValueError:\n",
    "    print(\"Invalid input. Please enter a valid numeric password length.\")"
   ]
  },
  {
   "cell_type": "code",
   "execution_count": 38,
   "id": "6872ebe6-1ab5-4cd9-b21c-d47838423322",
   "metadata": {},
   "outputs": [
    {
     "name": "stdout",
     "output_type": "stream",
     "text": [
      "You find yourself at a crossroads. Which path do you take?\n",
      "Choices:\n",
      "1. Go left\n",
      "2. Go right\n"
     ]
    },
    {
     "name": "stdin",
     "output_type": "stream",
     "text": [
      "Enter the number of your choice:  1\n"
     ]
    },
    {
     "name": "stdout",
     "output_type": "stream",
     "text": [
      "You enter a dark forest. A bear stands in your way. What do you do?\n",
      "Choices:\n",
      "1. Attempt to sneak past the bear\n",
      "2. Fight the bear\n",
      "3. Run away\n"
     ]
    },
    {
     "name": "stdin",
     "output_type": "stream",
     "text": [
      "Enter the number of your choice:  2\n"
     ]
    }
   ],
   "source": [
    "#24. Create a program that implements a simple text-based adventure game with branching scenarios.\n",
    "\n",
    "# Function to present a story scenario and get the player's choice\n",
    "def story_scenario(scenario, choices):\n",
    "    print(scenario)\n",
    "    print(\"Choices:\")\n",
    "    for i, choice in enumerate(choices, start=1):\n",
    "        print(f\"{i}. {choice[0]}\")\n",
    "    \n",
    "    while True:\n",
    "        try:\n",
    "            choice_number = int(input(\"Enter the number of your choice: \"))\n",
    "            if 1 <= choice_number <= len(choices):\n",
    "                return choices[choice_number - 1][1]\n",
    "            else:\n",
    "                print(\"Invalid choice. Please select a valid option.\")\n",
    "        except ValueError:\n",
    "            print(\"Invalid input. Please enter a number.\")\n",
    "\n",
    "# Define the initial scenario and choices\n",
    "scenario = \"You find yourself at a crossroads. Which path do you take?\"\n",
    "choices = [(\"Go left\", \"left_path\"), (\"Go right\", \"right_path\")]\n",
    "\n",
    "# Main game loop\n",
    "while True:\n",
    "    if scenario == \"left_path\":\n",
    "        scenario = \"You enter a dark forest. A bear stands in your way. What do you do?\"\n",
    "        choices = [(\"Attempt to sneak past the bear\", \"sneak_past_bear\"),\n",
    "                   (\"Fight the bear\", \"fight_bear\"),\n",
    "                   (\"Run away\", \"run_away\")]\n",
    "    elif scenario == \"right_path\":\n",
    "        scenario = \"You follow a river and discover a hidden treasure chest. Do you open it?\"\n",
    "        choices = [(\"Open the chest\", \"open_chest\"),\n",
    "                   (\"Ignore the chest\", \"ignore_chest\")]\n",
    "    elif scenario == \"sneak_past_bear\":\n",
    "        scenario = \"You successfully sneak past the bear and continue your journey. You win!\"\n",
    "        choices = []\n",
    "    elif scenario == \"fight_bear\":\n",
    "        scenario = \"The bear is too strong, and you are defeated. You lose.\"\n",
    "        choices = []\n",
    "    elif scenario == \"run_away\":\n",
    "        scenario = \"You manage to escape the bear and continue your adventure. You win!\"\n",
    "        choices = []\n",
    "    elif scenario == \"open_chest\":\n",
    "        scenario = \"You find a pile of gold and jewels. Congratulations, you are rich! You win!\"\n",
    "        choices = []\n",
    "    elif scenario == \"ignore_chest\":\n",
    "        scenario = \"You continue your journey, wondering what could have been. You win!\"\n",
    "        choices = []\n",
    "\n",
    "    if not choices:\n",
    "        break\n",
    "\n",
    "    result = story_scenario(scenario, choices)\n",
    "    scenario = result"
   ]
  },
  {
   "cell_type": "code",
   "execution_count": 39,
   "id": "814791f9-bb05-4fbd-b670-6ee7bc72ecea",
   "metadata": {},
   "outputs": [
    {
     "name": "stdin",
     "output_type": "stream",
     "text": [
      "Enter the coefficient 'a':  5\n",
      "Enter the coefficient 'b':  6\n",
      "Enter the constant 'c':  9\n"
     ]
    },
    {
     "name": "stdout",
     "output_type": "stream",
     "text": [
      "Solution: x = 0.6\n"
     ]
    }
   ],
   "source": [
    "#25. Build a program that solves a linear equation for x, considering different cases.\n",
    "\n",
    "# Function to solve a linear equation for x\n",
    "def solve_linear_equation(a, b, c):\n",
    "    if a == 0:\n",
    "        if b == c:\n",
    "            return \"Infinite solutions (the equation is always true)\"\n",
    "        else:\n",
    "            return \"No solution (the equation is always false)\"\n",
    "    else:\n",
    "        x = (c - b) / a\n",
    "        return f\"x = {x}\"\n",
    "\n",
    "# Get coefficients from the user\n",
    "try:\n",
    "    a = float(input(\"Enter the coefficient 'a': \"))\n",
    "    b = float(input(\"Enter the coefficient 'b': \"))\n",
    "    c = float(input(\"Enter the constant 'c': \"))\n",
    "\n",
    "    solution = solve_linear_equation(a, b, c)\n",
    "    print(\"Solution:\", solution)\n",
    "except ValueError:\n",
    "    print(\"Invalid input. Please enter valid numeric coefficients for 'a', 'b', and 'c'.\")"
   ]
  },
  {
   "cell_type": "code",
   "execution_count": 40,
   "id": "63d797d0-a7ca-457f-9c40-3be0e0b7bece",
   "metadata": {},
   "outputs": [
    {
     "name": "stdout",
     "output_type": "stream",
     "text": [
      "Welcome to the Quiz Game!\n",
      "What is the capital of France?\n",
      "A. Paris\n",
      "B. London\n",
      "C. Berlin\n",
      "D. Madrid\n"
     ]
    },
    {
     "name": "stdin",
     "output_type": "stream",
     "text": [
      "Enter the letter of your choice (A/B/C/D):  B\n"
     ]
    },
    {
     "name": "stdout",
     "output_type": "stream",
     "text": [
      "Which planet is known as the Red Planet?\n",
      "A. Earth\n",
      "B. Venus\n",
      "C. Mars\n",
      "D. Jupiter\n"
     ]
    },
    {
     "name": "stdin",
     "output_type": "stream",
     "text": [
      "Enter the letter of your choice (A/B/C/D):  C\n"
     ]
    },
    {
     "name": "stdout",
     "output_type": "stream",
     "text": [
      "What is the largest mammal in the world?\n",
      "A. Elephant\n",
      "B. Giraffe\n",
      "C. Blue Whale\n",
      "D. Dolphin\n"
     ]
    },
    {
     "name": "stdin",
     "output_type": "stream",
     "text": [
      "Enter the letter of your choice (A/B/C/D):  C\n"
     ]
    },
    {
     "name": "stdout",
     "output_type": "stream",
     "text": [
      "You answered 2 out of 3 questions correctly.\n"
     ]
    }
   ],
   "source": [
    "#26. Write a program that simulates a basic quiz game with multiple-choice questions and scoring.\n",
    "\n",
    "# Define the quiz questions and answers\n",
    "questions = [\n",
    "    {\n",
    "        \"question\": \"What is the capital of France?\",\n",
    "        \"choices\": [\"A. Paris\", \"B. London\", \"C. Berlin\", \"D. Madrid\"],\n",
    "        \"correct_answer\": \"A\"\n",
    "    },\n",
    "    {\n",
    "        \"question\": \"Which planet is known as the Red Planet?\",\n",
    "        \"choices\": [\"A. Earth\", \"B. Venus\", \"C. Mars\", \"D. Jupiter\"],\n",
    "        \"correct_answer\": \"C\"\n",
    "    },\n",
    "    {\n",
    "        \"question\": \"What is the largest mammal in the world?\",\n",
    "        \"choices\": [\"A. Elephant\", \"B. Giraffe\", \"C. Blue Whale\", \"D. Dolphin\"],\n",
    "        \"correct_answer\": \"C\"\n",
    "    }\n",
    "]\n",
    "\n",
    "# Function to present a quiz question and get the player's answer\n",
    "def present_question(question_data):\n",
    "    print(question_data[\"question\"])\n",
    "    for choice in question_data[\"choices\"]:\n",
    "        print(choice)\n",
    "    while True:\n",
    "        user_answer = input(\"Enter the letter of your choice (A/B/C/D): \").strip().upper()\n",
    "        if user_answer in [\"A\", \"B\", \"C\", \"D\"]:\n",
    "            return user_answer\n",
    "        else:\n",
    "            print(\"Invalid choice. Please select A, B, C, or D.\")\n",
    "\n",
    "# Function to score the quiz\n",
    "def score_quiz(questions, user_answers):\n",
    "    correct_count = 0\n",
    "    for i, question_data in enumerate(questions):\n",
    "        if user_answers[i] == question_data[\"correct_answer\"]:\n",
    "            correct_count += 1\n",
    "    return correct_count\n",
    "\n",
    "# Main quiz loop\n",
    "print(\"Welcome to the Quiz Game!\")\n",
    "user_answers = []\n",
    "\n",
    "for question_data in questions:\n",
    "    user_answer = present_question(question_data)\n",
    "    user_answers.append(user_answer)\n",
    "\n",
    "score = score_quiz(questions, user_answers)\n",
    "\n",
    "print(f\"You answered {score} out of {len(questions)} questions correctly.\")"
   ]
  },
  {
   "cell_type": "code",
   "execution_count": 41,
   "id": "e09ded70-f438-42df-980b-6cf24d963719",
   "metadata": {},
   "outputs": [
    {
     "name": "stdin",
     "output_type": "stream",
     "text": [
      "Enter a number to check if it's prime:  20\n"
     ]
    },
    {
     "name": "stdout",
     "output_type": "stream",
     "text": [
      "20 is not a prime number.\n"
     ]
    }
   ],
   "source": [
    "#27. Develop a program that determines whether a given year is a prime number or not.\n",
    "\n",
    "# Function to check if a number is prime\n",
    "def is_prime(number):\n",
    "    if number <= 1:\n",
    "        return False\n",
    "    if number <= 3:\n",
    "        return True\n",
    "    if number % 2 == 0 or number % 3 == 0:\n",
    "        return False\n",
    "\n",
    "    i = 5\n",
    "    while i * i <= number:\n",
    "        if number % i == 0 or number % (i + 2) == 0:\n",
    "            return False\n",
    "        i += 6\n",
    "\n",
    "    return True\n",
    "\n",
    "# Get the number from the user\n",
    "try:\n",
    "    number = int(input(\"Enter a number to check if it's prime: \"))\n",
    "\n",
    "    if is_prime(number):\n",
    "        print(f\"{number} is a prime number.\")\n",
    "    else:\n",
    "        print(f\"{number} is not a prime number.\")\n",
    "except ValueError:\n",
    "    print(\"Invalid input. Please enter a valid numeric value.\")"
   ]
  },
  {
   "cell_type": "code",
   "execution_count": 42,
   "id": "ff58a95b-197a-4715-8a86-3899a6fd3050",
   "metadata": {},
   "outputs": [
    {
     "name": "stdin",
     "output_type": "stream",
     "text": [
      "Enter the first number:  20\n",
      "Enter the second number:  70\n",
      "Enter the third number:  80\n"
     ]
    },
    {
     "name": "stdout",
     "output_type": "stream",
     "text": [
      "The numbers in ascending order are: 20.0, 70.0, 80.0\n"
     ]
    }
   ],
   "source": [
    "#28. Create a program that sorts three numbers in ascending order using conditional statements.\n",
    "\n",
    "# Get three numbers from the user\n",
    "try:\n",
    "    num1 = float(input(\"Enter the first number: \"))\n",
    "    num2 = float(input(\"Enter the second number: \"))\n",
    "    num3 = float(input(\"Enter the third number: \"))\n",
    "\n",
    "    # Check and swap to ensure num1 is the smallest\n",
    "    if num2 < num1:\n",
    "        num1, num2 = num2, num1\n",
    "    if num3 < num1:\n",
    "        num1, num3 = num3, num1\n",
    "\n",
    "    # Check and swap to ensure num2 is the second smallest\n",
    "    if num3 < num2:\n",
    "        num2, num3 = num3, num2\n",
    "\n",
    "    print(f\"The numbers in ascending order are: {num1}, {num2}, {num3}\")\n",
    "except ValueError:\n",
    "    print(\"Invalid input. Please enter valid numeric values.\")"
   ]
  },
  {
   "cell_type": "code",
   "execution_count": 43,
   "id": "51808ded-9c4e-4669-9acc-ba2b81241836",
   "metadata": {},
   "outputs": [
    {
     "name": "stdin",
     "output_type": "stream",
     "text": [
      "Enter the coefficient 'a':  56\n",
      "Enter the coefficient 'b':  42\n",
      "Enter the coefficient 'c':  33\n",
      "Enter the coefficient 'd':  82\n",
      "Enter the constant 'e':  11\n",
      "Enter an initial guess for the root:  89\n"
     ]
    },
    {
     "name": "stdout",
     "output_type": "stream",
     "text": [
      "An approximate root of the quartic equation is: -0.140980\n"
     ]
    }
   ],
   "source": [
    "#29. Build a program that determines the roots of a quartic equation using numerical methods.\n",
    "\n",
    "# Function to evaluate the quartic equation f(x) = ax^4 + bx^3 + cx^2 + dx + e\n",
    "def quartic_equation(x, a, b, c, d, e):\n",
    "    return a * x**4 + b * x**3 + c * x**2 + d * x + e\n",
    "\n",
    "# Function to calculate the derivative of the quartic equation\n",
    "def quartic_derivative(x, a, b, c, d):\n",
    "    return 4 * a * x**3 + 3 * b * x**2 + 2 * c * x + d\n",
    "\n",
    "# Function to find approximate roots using the Newton-Raphson method\n",
    "def find_quartic_roots(a, b, c, d, e, initial_guess, tolerance, max_iterations):\n",
    "    x = initial_guess\n",
    "    iterations = 0\n",
    "\n",
    "    while abs(quartic_equation(x, a, b, c, d, e)) > tolerance and iterations < max_iterations:\n",
    "        x = x - quartic_equation(x, a, b, c, d, e) / quartic_derivative(x, a, b, c, d)\n",
    "        iterations += 1\n",
    "\n",
    "    if abs(quartic_equation(x, a, b, c, d, e)) <= tolerance:\n",
    "        return x\n",
    "    else:\n",
    "        return None  # No root found within the maximum number of iterations\n",
    "\n",
    "# Get coefficients from the user\n",
    "try:\n",
    "    a = float(input(\"Enter the coefficient 'a': \"))\n",
    "    b = float(input(\"Enter the coefficient 'b': \"))\n",
    "    c = float(input(\"Enter the coefficient 'c': \"))\n",
    "    d = float(input(\"Enter the coefficient 'd': \"))\n",
    "    e = float(input(\"Enter the constant 'e': \"))\n",
    "\n",
    "    initial_guess = float(input(\"Enter an initial guess for the root: \"))\n",
    "    tolerance = 1e-6\n",
    "    max_iterations = 1000\n",
    "\n",
    "    root = find_quartic_roots(a, b, c, d, e, initial_guess, tolerance, max_iterations)\n",
    "\n",
    "    if root is not None:\n",
    "        print(f\"An approximate root of the quartic equation is: {root:.6f}\")\n",
    "    else:\n",
    "        print(\"No root found within the maximum number of iterations.\")\n",
    "except ValueError:\n",
    "    print(\"Invalid input. Please enter valid numeric coefficients and an initial guess.\")"
   ]
  },
  {
   "cell_type": "code",
   "execution_count": 44,
   "id": "ed4dea5c-87de-41b9-9468-2449599cf8e6",
   "metadata": {},
   "outputs": [
    {
     "name": "stdin",
     "output_type": "stream",
     "text": [
      "Enter your weight in kilograms:  85\n",
      "Enter your height in meters:  2\n"
     ]
    },
    {
     "name": "stdout",
     "output_type": "stream",
     "text": [
      "Your BMI is: 21.25\n",
      "Your weight is in the healthy range. Keep up the good work!\n"
     ]
    }
   ],
   "source": [
    "#30. Write a program that calculates the BMI (Body Mass Index) \n",
    "# and provides health recommendations based on the user's input.\n",
    "\n",
    "# Function to calculate BMI\n",
    "def calculate_bmi(weight_kg, height_m):\n",
    "    return weight_kg / (height_m**2)\n",
    "\n",
    "# Function to provide health recommendations based on BMI\n",
    "def health_recommendations(bmi):\n",
    "    if bmi < 18.5:\n",
    "        return \"You are underweight. It's recommended to gain some weight for better health.\"\n",
    "    elif 18.5 <= bmi < 24.9:\n",
    "        return \"Your weight is in the healthy range. Keep up the good work!\"\n",
    "    elif 24.9 <= bmi < 29.9:\n",
    "        return \"You are overweight. Consider a balanced diet and regular exercise.\"\n",
    "    else:\n",
    "        return \"You are obese. It's important to consult a healthcare professional and make healthy lifestyle changes.\"\n",
    "\n",
    "# Get user input for weight and height\n",
    "try:\n",
    "    weight_kg = float(input(\"Enter your weight in kilograms: \"))\n",
    "    height_m = float(input(\"Enter your height in meters: \"))\n",
    "\n",
    "    if weight_kg > 0 and height_m > 0:\n",
    "        bmi = calculate_bmi(weight_kg, height_m)\n",
    "        print(f\"Your BMI is: {bmi:.2f}\")\n",
    "        recommendations = health_recommendations(bmi)\n",
    "        print(recommendations)\n",
    "    else:\n",
    "        print(\"Invalid input. Please enter positive values for weight and height.\")\n",
    "except ValueError:\n",
    "    print(\"Invalid input. Please enter valid numeric values for weight and height.\")"
   ]
  },
  {
   "cell_type": "code",
   "execution_count": 45,
   "id": "bd147b53-d59a-49dd-b706-339e606ead98",
   "metadata": {},
   "outputs": [
    {
     "name": "stdin",
     "output_type": "stream",
     "text": [
      "Enter a password:  GodI$gr8\n"
     ]
    },
    {
     "name": "stdout",
     "output_type": "stream",
     "text": [
      "Valid password. Good job!\n"
     ]
    }
   ],
   "source": [
    "#31. Create a program that validates a password based on complexity rules (length, characters, etc.).\n",
    "\n",
    "import re\n",
    "\n",
    "# Function to validate a password\n",
    "def is_valid_password(password):\n",
    "    # Check the length of the password\n",
    "    if len(password) < 8:\n",
    "        return False\n",
    "\n",
    "    # Check if the password contains at least one uppercase letter\n",
    "    if not any(char.isupper() for char in password):\n",
    "        return False\n",
    "\n",
    "    # Check if the password contains at least one lowercase letter\n",
    "    if not any(char.islower() for char in password):\n",
    "        return False\n",
    "\n",
    "    # Check if the password contains at least one digit\n",
    "    if not any(char.isdigit() for char in password):\n",
    "        return False\n",
    "\n",
    "    # Check if the password contains at least one special character (e.g., !, @, #, etc.)\n",
    "    if not re.search(r'[!@#$%^&*()_+{}\\[\\]:;<>,.?~\\\\-]', password):\n",
    "        return False\n",
    "\n",
    "    return True\n",
    "\n",
    "# Get the password from the user\n",
    "password = input(\"Enter a password: \")\n",
    "\n",
    "if is_valid_password(password):\n",
    "    print(\"Valid password. Good job!\")\n",
    "else:\n",
    "    print(\"Invalid password. Please make sure it meets the complexity requirements.\")"
   ]
  },
  {
   "cell_type": "code",
   "execution_count": 47,
   "id": "dfa78642-999d-4d1b-bf5d-7f4738ae33cd",
   "metadata": {},
   "outputs": [
    {
     "name": "stdin",
     "output_type": "stream",
     "text": [
      "Enter the number of rows:  5\n",
      "Enter the number of columns:  3\n"
     ]
    },
    {
     "name": "stdout",
     "output_type": "stream",
     "text": [
      "Enter the 5x3 matrix:\n"
     ]
    },
    {
     "name": "stdin",
     "output_type": "stream",
     "text": [
      "Enter element at row 1, column 1:  8\n",
      "Enter element at row 1, column 2:  9\n",
      "Enter element at row 1, column 3:  7\n",
      "Enter element at row 2, column 1:  1\n",
      "Enter element at row 2, column 2:  3\n",
      "Enter element at row 2, column 3:  5\n",
      "Enter element at row 3, column 1:  5\n",
      "Enter element at row 3, column 2:  4\n",
      "Enter element at row 3, column 3:  3\n",
      "Enter element at row 4, column 1:  1\n",
      "Enter element at row 4, column 2:  2\n",
      "Enter element at row 4, column 3:  8\n",
      "Enter element at row 5, column 1:  4\n",
      "Enter element at row 5, column 2:  6\n",
      "Enter element at row 5, column 3:  3\n"
     ]
    },
    {
     "name": "stdout",
     "output_type": "stream",
     "text": [
      "Enter the 5x3 matrix:\n"
     ]
    },
    {
     "name": "stdin",
     "output_type": "stream",
     "text": [
      "Enter element at row 1, column 1:  2\n",
      "Enter element at row 1, column 2:  3\n",
      "Enter element at row 1, column 3:  5\n",
      "Enter element at row 2, column 1:  4\n",
      "Enter element at row 2, column 2:  6\n",
      "Enter element at row 2, column 3:  9\n",
      "Enter element at row 3, column 1:  7\n",
      "Enter element at row 3, column 2:  9\n",
      "Enter element at row 3, column 3:  5\n",
      "Enter element at row 4, column 1:  4\n",
      "Enter element at row 4, column 2:  1\n",
      "Enter element at row 4, column 3:  6\n",
      "Enter element at row 5, column 1:  3\n",
      "Enter element at row 5, column 2:  8\n",
      "Enter element at row 5, column 3:  9\n"
     ]
    },
    {
     "name": "stdout",
     "output_type": "stream",
     "text": [
      "Matrix 1:\n",
      "[8.0, 9.0, 7.0]\n",
      "[1.0, 3.0, 5.0]\n",
      "[5.0, 4.0, 3.0]\n",
      "[1.0, 2.0, 8.0]\n",
      "[4.0, 6.0, 3.0]\n",
      "Matrix 2:\n",
      "[2.0, 3.0, 5.0]\n",
      "[4.0, 6.0, 9.0]\n",
      "[7.0, 9.0, 5.0]\n",
      "[4.0, 1.0, 6.0]\n",
      "[3.0, 8.0, 9.0]\n"
     ]
    },
    {
     "name": "stdin",
     "output_type": "stream",
     "text": [
      "Enter 'add' or 'subtract' to perform the operation:  add\n"
     ]
    },
    {
     "name": "stdout",
     "output_type": "stream",
     "text": [
      "Result of addition:\n",
      "[10.0, 12.0, 12.0]\n",
      "[5.0, 9.0, 14.0]\n",
      "[12.0, 13.0, 8.0]\n",
      "[5.0, 3.0, 14.0]\n",
      "[7.0, 14.0, 12.0]\n"
     ]
    }
   ],
   "source": [
    "#32. Develop a program that performs matrix addition and subtraction based on user input.\n",
    "\n",
    "# Function to get a matrix from the user\n",
    "def get_matrix(rows, cols):\n",
    "    matrix = []\n",
    "    print(f\"Enter the {rows}x{cols} matrix:\")\n",
    "\n",
    "    for i in range(rows):\n",
    "        row = []\n",
    "        for j in range(cols):\n",
    "            while True:\n",
    "                try:\n",
    "                    value = float(input(f\"Enter element at row {i+1}, column {j+1}: \"))\n",
    "                    row.append(value)\n",
    "                    break\n",
    "                except ValueError:\n",
    "                    print(\"Invalid input. Please enter a numeric value.\")\n",
    "        matrix.append(row)\n",
    "\n",
    "    return matrix\n",
    "\n",
    "# Function to add two matrices\n",
    "def matrix_addition(matrix1, matrix2):\n",
    "    result = []\n",
    "    for i in range(len(matrix1)):\n",
    "        row = [matrix1[i][j] + matrix2[i][j] for j in range(len(matrix1[i]))]\n",
    "        result.append(row)\n",
    "    return result\n",
    "\n",
    "# Function to subtract two matrices\n",
    "def matrix_subtraction(matrix1, matrix2):\n",
    "    result = []\n",
    "    for i in range(len(matrix1)):\n",
    "        row = [matrix1[i][j] - matrix2[i][j] for j in range(len(matrix1[i]))]\n",
    "        result.append(row)\n",
    "    return result\n",
    "\n",
    "# Get matrix dimensions from the user\n",
    "try:\n",
    "    rows = int(input(\"Enter the number of rows: \"))\n",
    "    cols = int(input(\"Enter the number of columns: \"))\n",
    "\n",
    "    matrix1 = get_matrix(rows, cols)\n",
    "    matrix2 = get_matrix(rows, cols)\n",
    "\n",
    "    print(\"Matrix 1:\")\n",
    "    for row in matrix1:\n",
    "        print(row)\n",
    "\n",
    "    print(\"Matrix 2:\")\n",
    "    for row in matrix2:\n",
    "        print(row)\n",
    "\n",
    "    operation = input(\"Enter 'add' or 'subtract' to perform the operation: \").strip().lower()\n",
    "\n",
    "    if operation == 'add':\n",
    "        result = matrix_addition(matrix1, matrix2)\n",
    "        print(\"Result of addition:\")\n",
    "    elif operation == 'subtract':\n",
    "        result = matrix_subtraction(matrix1, matrix2)\n",
    "        print(\"Result of subtraction:\")\n",
    "    else:\n",
    "        print(\"Invalid operation. Please enter 'add' or 'subtract'.\")\n",
    "\n",
    "    for row in result:\n",
    "        print(row)\n",
    "except ValueError:\n",
    "    print(\"Invalid input. Please enter valid numeric values for matrix dimensions.\")"
   ]
  },
  {
   "cell_type": "code",
   "execution_count": 48,
   "id": "9c51c64e-5ddd-4a9c-962c-ea503d5f2ecb",
   "metadata": {},
   "outputs": [
    {
     "name": "stdin",
     "output_type": "stream",
     "text": [
      "Enter the first number:  5\n",
      "Enter the second number:  3\n"
     ]
    },
    {
     "name": "stdout",
     "output_type": "stream",
     "text": [
      "The GCD of 5 and 3 is: 1\n"
     ]
    }
   ],
   "source": [
    "#33. Write a program that calculates the greatest common divisor \n",
    "# (GCD) of two numbers using the Euclidean algorithm.\n",
    "\n",
    "# Function to calculate the GCD using the Euclidean algorithm\n",
    "def euclidean_gcd(a, b):\n",
    "    while b:\n",
    "        a, b = b, a % b\n",
    "    return a\n",
    "\n",
    "# Get two numbers from the user\n",
    "try:\n",
    "    num1 = int(input(\"Enter the first number: \"))\n",
    "    num2 = int(input(\"Enter the second number: \"))\n",
    "\n",
    "    if num1 >= 0 and num2 >= 0:\n",
    "        gcd = euclidean_gcd(num1, num2)\n",
    "        print(f\"The GCD of {num1} and {num2} is: {gcd}\")\n",
    "    else:\n",
    "        print(\"Invalid input. Please enter non-negative integers.\")\n",
    "except ValueError:\n",
    "    print(\"Invalid input. Please enter valid integer values.\")"
   ]
  },
  {
   "cell_type": "code",
   "execution_count": 52,
   "id": "5072cf19-136f-4770-b689-595a56f38e7b",
   "metadata": {},
   "outputs": [
    {
     "name": "stdin",
     "output_type": "stream",
     "text": [
      "Enter the number of rows for the first matrix:  2\n",
      "Enter the number of columns for the first matrix:  2\n",
      "Enter the number of rows for the second matrix:  2\n",
      "Enter the number of columns for the second matrix:  2\n"
     ]
    },
    {
     "name": "stdout",
     "output_type": "stream",
     "text": [
      "Enter the 2x2 matrix:\n"
     ]
    },
    {
     "name": "stdin",
     "output_type": "stream",
     "text": [
      "Enter element at row 1, column 1:  5\n",
      "Enter element at row 1, column 2:  6\n",
      "Enter element at row 2, column 1:  9\n",
      "Enter element at row 2, column 2:  7\n"
     ]
    },
    {
     "name": "stdout",
     "output_type": "stream",
     "text": [
      "Enter the 2x2 matrix:\n"
     ]
    },
    {
     "name": "stdin",
     "output_type": "stream",
     "text": [
      "Enter element at row 1, column 1:  1\n",
      "Enter element at row 1, column 2:  6\n",
      "Enter element at row 2, column 1:  9\n",
      "Enter element at row 2, column 2:  10\n"
     ]
    },
    {
     "name": "stdout",
     "output_type": "stream",
     "text": [
      "Matrix 1:\n",
      "[5.0, 6.0]\n",
      "[9.0, 7.0]\n",
      "Matrix 2:\n",
      "[1.0, 6.0]\n",
      "[9.0, 10.0]\n",
      "Result of matrix multiplication:\n",
      "[59.0, 90.0]\n",
      "[72.0, 124.0]\n"
     ]
    }
   ],
   "source": [
    "#34. Build a program that performs matrix multiplication using nested loops and conditional statements.\n",
    "\n",
    "# Function to get a matrix from the user\n",
    "def get_matrix(rows, cols):\n",
    "    matrix = []\n",
    "    print(f\"Enter the {rows}x{cols} matrix:\")\n",
    "\n",
    "    for i in range(rows):\n",
    "        row = []\n",
    "        for j in range(cols):\n",
    "            while True:\n",
    "                try:\n",
    "                    value = float(input(f\"Enter element at row {i+1}, column {j+1}: \"))\n",
    "                    row.append(value)\n",
    "                    break\n",
    "                except ValueError:\n",
    "                    print(\"Invalid input. Please enter a numeric value.\")\n",
    "        matrix.append(row)\n",
    "\n",
    "    return matrix\n",
    "\n",
    "# Function to perform matrix multiplication\n",
    "def matrix_multiplication(matrix1, matrix2):\n",
    "    if len(matrix1[0]) != len(matrix2):\n",
    "        return None  # Matrix dimensions are not compatible\n",
    "\n",
    "    result = []\n",
    "    for i in range(len(matrix1)):\n",
    "        row = []\n",
    "        for j in range(len(matrix2[0])):\n",
    "            element = 0\n",
    "            for k in range(len(matrix2)):\n",
    "                element += matrix1[i][k] * matrix2[k][j]\n",
    "            row.append(element)\n",
    "        result.append(row)\n",
    "\n",
    "    return result\n",
    "\n",
    "# Get matrix dimensions from the user\n",
    "try:\n",
    "    rows1 = int(input(\"Enter the number of rows for the first matrix: \"))\n",
    "    cols1 = int(input(\"Enter the number of columns for the first matrix: \"))\n",
    "    rows2 = int(input(\"Enter the number of rows for the second matrix: \"))\n",
    "    cols2 = int(input(\"Enter the number of columns for the second matrix: \"))\n",
    "\n",
    "    if cols1 != rows2:\n",
    "        print(\"Matrix dimensions are not compatible for multiplication.\")\n",
    "    else:\n",
    "        matrix1 = get_matrix(rows1, cols1)\n",
    "        matrix2 = get_matrix(rows2, cols2)\n",
    "\n",
    "        print(\"Matrix 1:\")\n",
    "        for row in matrix1:\n",
    "            print(row)\n",
    "\n",
    "        print(\"Matrix 2:\")\n",
    "        for row in matrix2:\n",
    "            print(row)\n",
    "\n",
    "        result = matrix_multiplication(matrix1, matrix2)\n",
    "\n",
    "        if result is not None:\n",
    "            print(\"Result of matrix multiplication:\")\n",
    "            for row in result:\n",
    "                print(row)\n",
    "        else:\n",
    "            print(\"Matrix dimensions are not compatible for multiplication.\")\n",
    "except ValueError:\n",
    "    print(\"Invalid input. Please enter valid numeric values for matrix dimensions.\")"
   ]
  },
  {
   "cell_type": "code",
   "execution_count": 53,
   "id": "6db06ea0-7e15-4bdb-be17-3c5de8eadc4f",
   "metadata": {},
   "outputs": [
    {
     "name": "stdout",
     "output_type": "stream",
     "text": [
      "Welcome to Tic-Tac-Toe!\n",
      "  |   |  \n",
      "---------\n",
      "  |   |  \n",
      "---------\n",
      "  |   |  \n",
      "---------\n"
     ]
    },
    {
     "name": "stdin",
     "output_type": "stream",
     "text": [
      "Enter your move (row and column, e.g., '1 2'):  1 1\n"
     ]
    },
    {
     "name": "stdout",
     "output_type": "stream",
     "text": [
      "X |   |  \n",
      "---------\n",
      "  |   |  \n",
      "---------\n",
      "  |   |  \n",
      "---------\n",
      "Computer's move:\n",
      "X |   |  \n",
      "---------\n",
      "  |   |  \n",
      "---------\n",
      "O |   |  \n",
      "---------\n"
     ]
    },
    {
     "name": "stdin",
     "output_type": "stream",
     "text": [
      "Enter your move (row and column, e.g., '1 2'):  3 3\n"
     ]
    },
    {
     "name": "stdout",
     "output_type": "stream",
     "text": [
      "X |   |  \n",
      "---------\n",
      "  |   |  \n",
      "---------\n",
      "O |   | X\n",
      "---------\n",
      "Computer's move:\n",
      "X |   |  \n",
      "---------\n",
      "  |   | O\n",
      "---------\n",
      "O |   | X\n",
      "---------\n"
     ]
    },
    {
     "name": "stdin",
     "output_type": "stream",
     "text": [
      "Enter your move (row and column, e.g., '1 2'):  2 2\n"
     ]
    },
    {
     "name": "stdout",
     "output_type": "stream",
     "text": [
      "X |   |  \n",
      "---------\n",
      "  | X | O\n",
      "---------\n",
      "O |   | X\n",
      "---------\n",
      "Congratulations! You win!\n"
     ]
    }
   ],
   "source": [
    "#35. Create a program that simulates a basic text-based tic-tac-toe game against the computer.\n",
    "\n",
    "import random\n",
    "\n",
    "# Function to print the Tic-Tac-Toe board\n",
    "def print_board(board):\n",
    "    for row in board:\n",
    "        print(\" | \".join(row))\n",
    "        print(\"-\" * 9)\n",
    "\n",
    "# Function to check if a player has won\n",
    "def check_win(board, player):\n",
    "    for row in board:\n",
    "        if all(cell == player for cell in row):\n",
    "            return True\n",
    "\n",
    "    for col in range(3):\n",
    "        if all(board[row][col] == player for row in range(3)):\n",
    "            return True\n",
    "\n",
    "    if all(board[i][i] == player for i in range(3)) or all(board[i][2 - i] == player for i in range(3)):\n",
    "        return True\n",
    "\n",
    "    return False\n",
    "\n",
    "# Function to check if the board is full (a tie)\n",
    "def check_tie(board):\n",
    "    return all(cell != \" \" for row in board for cell in row)\n",
    "\n",
    "# Function to make the computer's move (random)\n",
    "def computer_move(board):\n",
    "    empty_cells = [(i, j) for i in range(3) for j in range(3) if board[i][j] == \" \"]\n",
    "    if empty_cells:\n",
    "        row, col = random.choice(empty_cells)\n",
    "        board[row][col] = \"O\"\n",
    "\n",
    "# Main game loop\n",
    "board = [[\" \" for _ in range(3)] for _ in range(3)]\n",
    "\n",
    "print(\"Welcome to Tic-Tac-Toe!\")\n",
    "print_board(board)\n",
    "\n",
    "while True:\n",
    "    while True:\n",
    "        try:\n",
    "            player_move = input(\"Enter your move (row and column, e.g., '1 2'): \").split()\n",
    "            if len(player_move) != 2:\n",
    "                print(\"Invalid input. Please enter row and column.\")\n",
    "                continue\n",
    "\n",
    "            row, col = map(int, player_move)\n",
    "            if row < 1 or row > 3 or col < 1 or col > 3 or board[row - 1][col - 1] != \" \":\n",
    "                print(\"Invalid move. Try again.\")\n",
    "                continue\n",
    "\n",
    "            board[row - 1][col - 1] = \"X\"\n",
    "            break\n",
    "\n",
    "        except ValueError:\n",
    "            print(\"Invalid input. Please enter valid numeric values for row and column.\")\n",
    "\n",
    "    print_board(board)\n",
    "\n",
    "    if check_win(board, \"X\"):\n",
    "        print(\"Congratulations! You win!\")\n",
    "        break\n",
    "\n",
    "    if check_tie(board):\n",
    "        print(\"It's a tie!\")\n",
    "        break\n",
    "\n",
    "    print(\"Computer's move:\")\n",
    "    computer_move(board)\n",
    "    print_board(board)\n",
    "\n",
    "    if check_win(board, \"O\"):\n",
    "        print(\"Computer wins. Better luck next time!\")\n",
    "        break\n",
    "\n",
    "    if check_tie(board):\n",
    "        print(\"It's a tie!\")\n",
    "        break"
   ]
  },
  {
   "cell_type": "code",
   "execution_count": 54,
   "id": "f5cf8db1-5fcf-4527-87b5-bbe84c1718b3",
   "metadata": {},
   "outputs": [
    {
     "name": "stdin",
     "output_type": "stream",
     "text": [
      "Enter the number of Fibonacci terms to generate:  5\n"
     ]
    },
    {
     "name": "stdout",
     "output_type": "stream",
     "text": [
      "Fibonacci sequence up to the 5 term(s):\n",
      "0\n",
      "1\n",
      "1\n",
      "2\n",
      "3\n"
     ]
    }
   ],
   "source": [
    "#36. Write a program that generates Fibonacci numbers up to a specified term using iterative methods.\n",
    "\n",
    "# Function to generate Fibonacci numbers up to a specified term\n",
    "def generate_fibonacci(n):\n",
    "    fibonacci_sequence = [0, 1]\n",
    "\n",
    "    while len(fibonacci_sequence) < n:\n",
    "        next_number = fibonacci_sequence[-1] + fibonacci_sequence[-2]\n",
    "        fibonacci_sequence.append(next_number)\n",
    "\n",
    "    return fibonacci_sequence\n",
    "\n",
    "try:\n",
    "    n = int(input(\"Enter the number of Fibonacci terms to generate: \"))\n",
    "\n",
    "    if n <= 0:\n",
    "        print(\"Please enter a positive integer.\")\n",
    "    else:\n",
    "        fibonacci_sequence = generate_fibonacci(n)\n",
    "        print(\"Fibonacci sequence up to the\", n, \"term(s):\")\n",
    "        for number in fibonacci_sequence:\n",
    "            print(number)\n",
    "except ValueError:\n",
    "    print(\"Invalid input. Please enter a valid integer.\")"
   ]
  },
  {
   "cell_type": "code",
   "execution_count": 55,
   "id": "213c1bc8-cbd4-4061-a18b-6e566c64982d",
   "metadata": {},
   "outputs": [
    {
     "name": "stdin",
     "output_type": "stream",
     "text": [
      "Enter the value of n to find the nth Fibonacci term:  50\n"
     ]
    },
    {
     "name": "stdout",
     "output_type": "stream",
     "text": [
      "The 50th Fibonacci term is: 12586269025\n"
     ]
    }
   ],
   "source": [
    "#37. Develop a program that calculates the nth term of the Fibonacci sequence using memoization.\n",
    "\n",
    "# Dictionary to store Fibonacci numbers for memoization\n",
    "fibonacci_cache = {}\n",
    "\n",
    "# Function to calculate the nth Fibonacci term using memoization\n",
    "def fibonacci(n):\n",
    "    if n in fibonacci_cache:\n",
    "        return fibonacci_cache[n]\n",
    "\n",
    "    if n <= 1:\n",
    "        result = n\n",
    "    else:\n",
    "        result = fibonacci(n - 1) + fibonacci(n - 2)\n",
    "\n",
    "    fibonacci_cache[n] = result\n",
    "    return result\n",
    "\n",
    "try:\n",
    "    n = int(input(\"Enter the value of n to find the nth Fibonacci term: \"))\n",
    "\n",
    "    if n < 0:\n",
    "        print(\"Please enter a non-negative integer.\")\n",
    "    else:\n",
    "        nth_term = fibonacci(n)\n",
    "        print(f\"The {n}th Fibonacci term is: {nth_term}\")\n",
    "except ValueError:\n",
    "    print(\"Invalid input. Please enter a valid non-negative integer.\")"
   ]
  },
  {
   "cell_type": "code",
   "execution_count": 56,
   "id": "9bd2416e-3581-41e3-aca0-c13355077e8d",
   "metadata": {},
   "outputs": [
    {
     "name": "stdin",
     "output_type": "stream",
     "text": [
      "Enter the year:  2023\n",
      "Enter the month (1-12):  11\n"
     ]
    },
    {
     "name": "stdout",
     "output_type": "stream",
     "text": [
      "Calendar for November 2023:\n",
      "   November 2023\n",
      "Mo Tu We Th Fr Sa Su\n",
      "       1  2  3  4  5\n",
      " 6  7  8  9 10 11 12\n",
      "13 14 15 16 17 18 19\n",
      "20 21 22 23 24 25 26\n",
      "27 28 29 30\n",
      "\n"
     ]
    }
   ],
   "source": [
    "#38. Create a program that generates a calendar for a given month and year using conditional statements.\n",
    "\n",
    "import calendar\n",
    "\n",
    "# Function to generate a calendar for a given month and year\n",
    "def generate_calendar(year, month):\n",
    "    cal = calendar.month(year, month)\n",
    "    return cal\n",
    "\n",
    "try:\n",
    "    year = int(input(\"Enter the year: \"))\n",
    "    month = int(input(\"Enter the month (1-12): \"))\n",
    "\n",
    "    if 1 <= month <= 12:\n",
    "        calendar_text = generate_calendar(year, month)\n",
    "        print(f\"Calendar for {calendar.month_name[month]} {year}:\")\n",
    "        print(calendar_text)\n",
    "    else:\n",
    "        print(\"Invalid month. Please enter a month between 1 and 12.\")\n",
    "except ValueError:\n",
    "    print(\"Invalid input. Please enter valid numeric values for year and month.\")"
   ]
  },
  {
   "cell_type": "code",
   "execution_count": 57,
   "id": "62572512-25bf-4ce5-a7e0-4694ce7fa487",
   "metadata": {},
   "outputs": [
    {
     "name": "stdout",
     "output_type": "stream",
     "text": [
      "Welcome to Blackjack!\n",
      "Your's hand: [4, 6] (Total: 10)\n",
      "Computer's hand: [? 8]\n"
     ]
    },
    {
     "name": "stdin",
     "output_type": "stream",
     "text": [
      "Do you want to 'hit' or 'stand'?  hit\n"
     ]
    },
    {
     "name": "stdout",
     "output_type": "stream",
     "text": [
      "Your's hand: [4, 6, 9] (Total: 19)\n"
     ]
    },
    {
     "name": "stdin",
     "output_type": "stream",
     "text": [
      "Do you want to 'hit' or 'stand'?  stand\n"
     ]
    },
    {
     "name": "stdout",
     "output_type": "stream",
     "text": [
      "Computer's hand: [8, 8, 8] (Total: 24)\n",
      "Congratulations! You win.\n"
     ]
    },
    {
     "name": "stdin",
     "output_type": "stream",
     "text": [
      "Do you want to play again? (yes/no)  no\n"
     ]
    },
    {
     "name": "stdout",
     "output_type": "stream",
     "text": [
      "Thank you for playing Blackjack!\n"
     ]
    }
   ],
   "source": [
    "#39. Build a program that simulates a basic text-based blackjack game against the computer.\n",
    "\n",
    "import random\n",
    "\n",
    "# Function to deal a card\n",
    "def deal_card():\n",
    "    card = random.randint(1, 11)\n",
    "    return card\n",
    "\n",
    "# Function to calculate the total value of a hand\n",
    "def calculate_hand(hand):\n",
    "    total = sum(hand)\n",
    "    if total <= 11 and 1 in hand:\n",
    "        total += 10\n",
    "    return total\n",
    "\n",
    "# Function to display a player's hand\n",
    "def display_hand(hand, player_name):\n",
    "    print(f\"{player_name}'s hand: {hand} (Total: {calculate_hand(hand)})\")\n",
    "\n",
    "# Main game loop\n",
    "while True:\n",
    "    player_hand = [deal_card(), deal_card()]\n",
    "    computer_hand = [deal_card()]\n",
    "\n",
    "    print(\"Welcome to Blackjack!\")\n",
    "    display_hand(player_hand, \"Your\")\n",
    "    print(f\"Computer's hand: [? {computer_hand[0]}]\")\n",
    "\n",
    "    while calculate_hand(player_hand) < 21:\n",
    "        action = input(\"Do you want to 'hit' or 'stand'? \").strip().lower()\n",
    "        if action == \"hit\":\n",
    "            player_hand.append(deal_card())\n",
    "            display_hand(player_hand, \"Your\")\n",
    "        elif action == \"stand\":\n",
    "            break\n",
    "\n",
    "    while calculate_hand(computer_hand) < 17:\n",
    "        computer_hand.append(deal_card())\n",
    "\n",
    "    display_hand(computer_hand, \"Computer\")\n",
    "\n",
    "    player_total = calculate_hand(player_hand)\n",
    "    computer_total = calculate_hand(computer_hand)\n",
    "\n",
    "    if player_total > 21:\n",
    "        print(\"Bust! You lose.\")\n",
    "    elif computer_total > 21 or player_total == 21 or (player_total > computer_total and player_total <= 21):\n",
    "        print(\"Congratulations! You win.\")\n",
    "    elif player_total == computer_total:\n",
    "        print(\"It's a tie!\")\n",
    "    else:\n",
    "        print(\"Computer wins. Better luck next time!\")\n",
    "\n",
    "    play_again = input(\"Do you want to play again? (yes/no) \").strip().lower()\n",
    "    if play_again != \"yes\":\n",
    "        break\n",
    "\n",
    "print(\"Thank you for playing Blackjack!\")"
   ]
  },
  {
   "cell_type": "code",
   "execution_count": 58,
   "id": "089557cf-1dc7-43f7-aacf-3844a1434978",
   "metadata": {},
   "outputs": [
    {
     "name": "stdin",
     "output_type": "stream",
     "text": [
      "Enter a number to find its prime factors:  5\n"
     ]
    },
    {
     "name": "stdout",
     "output_type": "stream",
     "text": [
      "5 is a prime number, and it has no prime factors.\n"
     ]
    }
   ],
   "source": [
    "#40. Write a program that generates the prime factors of a given number using trial division.\n",
    "\n",
    "# Function to find and print the prime factors of a number using trial division\n",
    "def prime_factors(n):\n",
    "    factors = []\n",
    "    div = 2\n",
    "\n",
    "    while n > 1:\n",
    "        if n % div == 0:\n",
    "            factors.append(div)\n",
    "            n /= div\n",
    "        else:\n",
    "            div += 1\n",
    "\n",
    "    return factors\n",
    "\n",
    "try:\n",
    "    number = int(input(\"Enter a number to find its prime factors: \"))\n",
    "\n",
    "    if number < 2:\n",
    "        print(\"Prime factors are not defined for numbers less than 2.\")\n",
    "    else:\n",
    "        factors = prime_factors(number)\n",
    "        if len(factors) > 1:\n",
    "            print(f\"Prime factors of {number}: {', '.join(map(str, factors))}\")\n",
    "        else:\n",
    "            print(f\"{number} is a prime number, and it has no prime factors.\")\n",
    "except ValueError:\n",
    "    print(\"Invalid input. Please enter a valid integer.\")"
   ]
  }
 ],
 "metadata": {
  "kernelspec": {
   "display_name": "Python 3 (ipykernel)",
   "language": "python",
   "name": "python3"
  },
  "language_info": {
   "codemirror_mode": {
    "name": "ipython",
    "version": 3
   },
   "file_extension": ".py",
   "mimetype": "text/x-python",
   "name": "python",
   "nbconvert_exporter": "python",
   "pygments_lexer": "ipython3",
   "version": "3.10.8"
  }
 },
 "nbformat": 4,
 "nbformat_minor": 5
}
