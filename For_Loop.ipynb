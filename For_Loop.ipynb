{
 "cells": [
  {
   "cell_type": "code",
   "execution_count": 2,
   "id": "1192943d-be93-49de-b16e-86d801fdb3e9",
   "metadata": {},
   "outputs": [
    {
     "name": "stdout",
     "output_type": "stream",
     "text": [
      "1\n",
      "2\n",
      "3\n",
      "4\n",
      "5\n",
      "6\n",
      "7\n",
      "8\n",
      "9\n",
      "10\n"
     ]
    }
   ],
   "source": [
    "#1. Write a Python program to print the numbers from 1 to 10 using a `for` loop.\n",
    "\n",
    "for i in range(1, 11):\n",
    "    print(i)"
   ]
  },
  {
   "cell_type": "code",
   "execution_count": 3,
   "id": "1ebde144-5555-4d91-bd80-9b3ae3ba1bd5",
   "metadata": {},
   "outputs": [
    {
     "name": "stdout",
     "output_type": "stream",
     "text": [
      "The sum of the numbers is: 150\n"
     ]
    }
   ],
   "source": [
    "#2. Create a program that calculates the sum of all numbers in a list using a `for` loop.\n",
    "\n",
    "# Define a list of numbers\n",
    "numbers = [10, 20, 30, 40, 50]\n",
    "\n",
    "# Initialize a variable to store the sum\n",
    "total = 0\n",
    "\n",
    "# Use a for loop to iterate through the list and calculate the sum\n",
    "for number in numbers:\n",
    "    total += number\n",
    "\n",
    "# Print the sum\n",
    "print(\"The sum of the numbers is:\", total)"
   ]
  },
  {
   "cell_type": "code",
   "execution_count": 5,
   "id": "56499004-e3b2-44d4-930d-32bac2157a8f",
   "metadata": {},
   "outputs": [
    {
     "name": "stdout",
     "output_type": "stream",
     "text": [
      "!dlroW ,olleH\n"
     ]
    }
   ],
   "source": [
    "#3. Write a program to print the characters of a string in reverse order using a `for` loop.\n",
    "\n",
    "# Input string\n",
    "input_string = \"Hello, World!\"\n",
    "\n",
    "# Initialize an empty string to store the reversed string\n",
    "reversed_string = \"\"\n",
    "\n",
    "# Use a for loop to iterate through the string in reverse order\n",
    "for char in reversed(input_string):\n",
    "    reversed_string += char\n",
    "\n",
    "# Print the reversed string\n",
    "print(reversed_string)"
   ]
  },
  {
   "cell_type": "code",
   "execution_count": 6,
   "id": "b88b0f8f-1f00-4e69-9035-e51ab844fc08",
   "metadata": {},
   "outputs": [
    {
     "name": "stdin",
     "output_type": "stream",
     "text": [
      "Enter a number:  25\n"
     ]
    },
    {
     "name": "stdout",
     "output_type": "stream",
     "text": [
      "The factorial of 25 is 15511210043330985984000000\n"
     ]
    }
   ],
   "source": [
    "#4. Develop a program that finds the factorial of a given number using a `for` loop.\n",
    "\n",
    "# Input: Get the number from the user\n",
    "num = int(input(\"Enter a number: \"))\n",
    "\n",
    "# Initialize a variable to store the factorial\n",
    "factorial = 1\n",
    "\n",
    "# Use a for loop to calculate the factorial\n",
    "for i in range(1, num + 1):\n",
    "    factorial *= i\n",
    "\n",
    "# Print the factorial\n",
    "print(f\"The factorial of {num} is {factorial}\")"
   ]
  },
  {
   "cell_type": "code",
   "execution_count": 7,
   "id": "c5918afb-292f-4be4-a2cc-1e0798dad2aa",
   "metadata": {},
   "outputs": [
    {
     "name": "stdin",
     "output_type": "stream",
     "text": [
      "Enter a number to generate its multiplication table:  25\n"
     ]
    },
    {
     "name": "stdout",
     "output_type": "stream",
     "text": [
      "Multiplication Table for 25:\n",
      "25 x 1 = 25\n",
      "25 x 2 = 50\n",
      "25 x 3 = 75\n",
      "25 x 4 = 100\n",
      "25 x 5 = 125\n",
      "25 x 6 = 150\n",
      "25 x 7 = 175\n",
      "25 x 8 = 200\n",
      "25 x 9 = 225\n",
      "25 x 10 = 250\n"
     ]
    }
   ],
   "source": [
    "#5. Create a program to print the multiplication table of a given number using a `for` loop.\n",
    "\n",
    "# Input: Get the number from the user\n",
    "num = int(input(\"Enter a number to generate its multiplication table: \"))\n",
    "\n",
    "# Define the range for the multiplication table (e.g., from 1 to 10)\n",
    "start = 1\n",
    "end = 10\n",
    "\n",
    "# Use a for loop to generate the multiplication table\n",
    "print(f\"Multiplication Table for {num}:\")\n",
    "for i in range(start, end + 1):\n",
    "    result = num * i\n",
    "    print(f\"{num} x {i} = {result}\")"
   ]
  },
  {
   "cell_type": "code",
   "execution_count": 8,
   "id": "db0ce4b5-6c64-4cdc-8e7a-e0bafc86327d",
   "metadata": {},
   "outputs": [
    {
     "name": "stdout",
     "output_type": "stream",
     "text": [
      "Number of even numbers: 5\n",
      "Number of odd numbers: 5\n"
     ]
    }
   ],
   "source": [
    "#6. Write a program that counts the number of even and odd numbers in a list using a `for` loop.\n",
    "\n",
    "# Define a list of numbers\n",
    "numbers = [1, 2, 3, 4, 5, 6, 7, 8, 9, 10]\n",
    "\n",
    "# Initialize counters for even and odd numbers\n",
    "even_count = 0\n",
    "odd_count = 0\n",
    "\n",
    "# Use a for loop to iterate through the list\n",
    "for number in numbers:\n",
    "    if number % 2 == 0:  # Check if the number is even\n",
    "        even_count += 1\n",
    "    else:\n",
    "        odd_count += 1\n",
    "\n",
    "# Print the counts\n",
    "print(\"Number of even numbers:\", even_count)\n",
    "print(\"Number of odd numbers:\", odd_count)"
   ]
  },
  {
   "cell_type": "code",
   "execution_count": 9,
   "id": "0e3e56f9-0fb3-4c60-b60b-a856b09fc69b",
   "metadata": {},
   "outputs": [
    {
     "name": "stdout",
     "output_type": "stream",
     "text": [
      "The square of 1 is 1\n",
      "The square of 2 is 4\n",
      "The square of 3 is 9\n",
      "The square of 4 is 16\n",
      "The square of 5 is 25\n"
     ]
    }
   ],
   "source": [
    "#7. Develop a program that prints the squares of numbers from 1 to 5 using a `for` loop.\n",
    "\n",
    "# Use a for loop to iterate from 1 to 5\n",
    "for number in range(1, 6):\n",
    "    square = number ** 2\n",
    "    print(f\"The square of {number} is {square}\")"
   ]
  },
  {
   "cell_type": "code",
   "execution_count": 10,
   "id": "65974f75-d3e2-4e50-85a4-074da0e202e8",
   "metadata": {},
   "outputs": [
    {
     "name": "stdin",
     "output_type": "stream",
     "text": [
      "Enter a string:  Gautam is a good boy.\n"
     ]
    },
    {
     "name": "stdout",
     "output_type": "stream",
     "text": [
      "The length of the string is: 21\n"
     ]
    }
   ],
   "source": [
    "#8. Create a program to find the length of a string without using the `len()` function.\n",
    "\n",
    "# Input: Get a string from the user\n",
    "string = input(\"Enter a string: \")\n",
    "\n",
    "# Initialize a variable to count the characters\n",
    "count = 0\n",
    "\n",
    "# Use a for loop to count the characters in the string\n",
    "for char in string:\n",
    "    count += 1\n",
    "\n",
    "# Print the length of the string\n",
    "print(f\"The length of the string is: {count}\")"
   ]
  },
  {
   "cell_type": "code",
   "execution_count": 11,
   "id": "6e35e961-aca5-4d4e-ac52-c97a7f60de09",
   "metadata": {},
   "outputs": [
    {
     "name": "stdout",
     "output_type": "stream",
     "text": [
      "The average of the numbers is: 30.0\n"
     ]
    }
   ],
   "source": [
    "#9. Write a program that calculates the average of a list of numbers using a `for` loop.\n",
    "\n",
    "# Define a list of numbers\n",
    "numbers = [10, 20, 30, 40, 50]\n",
    "\n",
    "# Initialize variables for sum and count\n",
    "total = 0\n",
    "count = 0\n",
    "\n",
    "# Use a for loop to calculate the sum and count\n",
    "for number in numbers:\n",
    "    total += number\n",
    "    count += 1\n",
    "\n",
    "# Calculate the average\n",
    "average = total / count\n",
    "\n",
    "# Print the average\n",
    "print(f\"The average of the numbers is: {average}\")"
   ]
  },
  {
   "cell_type": "code",
   "execution_count": 12,
   "id": "e26d2b61-161f-41a4-9128-3e52ac3c60db",
   "metadata": {},
   "outputs": [
    {
     "name": "stdin",
     "output_type": "stream",
     "text": [
      "Enter the value of 'n' for Fibonacci sequence:  16\n"
     ]
    },
    {
     "name": "stdout",
     "output_type": "stream",
     "text": [
      "Fibonacci numbers up to 16:\n",
      "0\n",
      "1\n",
      "1\n",
      "2\n",
      "3\n",
      "5\n",
      "8\n",
      "13\n",
      "21\n",
      "34\n",
      "55\n",
      "89\n",
      "144\n",
      "233\n",
      "377\n",
      "610\n"
     ]
    }
   ],
   "source": [
    "#10. Develop a program that prints the first `n` Fibonacci numbers using a `for` loop.\n",
    "\n",
    "# Input: Get the value of 'n' from the user\n",
    "n = int(input(\"Enter the value of 'n' for Fibonacci sequence: \"))\n",
    "\n",
    "# Initialize variables to store the first two Fibonacci numbers\n",
    "fibonacci_a, fibonacci_b = 0, 1\n",
    "\n",
    "# Print the first two Fibonacci numbers (0 and 1)\n",
    "print(f\"Fibonacci numbers up to {n}:\")\n",
    "print(fibonacci_a)\n",
    "print(fibonacci_b)\n",
    "\n",
    "# Use a for loop to calculate and print the remaining Fibonacci numbers\n",
    "for _ in range(2, n):\n",
    "    next_fibonacci = fibonacci_a + fibonacci_b\n",
    "    print(next_fibonacci)\n",
    "    fibonacci_a, fibonacci_b = fibonacci_b, next_fibonacci"
   ]
  },
  {
   "cell_type": "code",
   "execution_count": 13,
   "id": "430d8b70-e8e6-4a0a-87c4-b97e5ad90f3e",
   "metadata": {},
   "outputs": [
    {
     "name": "stdout",
     "output_type": "stream",
     "text": [
      "The list contains duplicates.\n"
     ]
    }
   ],
   "source": [
    "#11. Write a program to check if a given list contains any duplicates using a `for` loop.\n",
    "\n",
    "# Define a list\n",
    "my_list = [1, 2, 3, 4, 5, 2, 6]\n",
    "\n",
    "# Initialize a flag to track duplicates\n",
    "has_duplicates = False\n",
    "\n",
    "# Use a for loop to check for duplicates\n",
    "for i in range(len(my_list)):\n",
    "    for j in range(i + 1, len(my_list)):\n",
    "        if my_list[i] == my_list[j]:\n",
    "            has_duplicates = True\n",
    "            break\n",
    "\n",
    "# Check the flag to determine if there are duplicates\n",
    "if has_duplicates:\n",
    "    print(\"The list contains duplicates.\")\n",
    "else:\n",
    "    print(\"The list does not contain duplicates.\")"
   ]
  },
  {
   "cell_type": "code",
   "execution_count": 14,
   "id": "4f9be254-7cae-49b0-a85d-e989d8d1f61d",
   "metadata": {},
   "outputs": [
    {
     "name": "stdin",
     "output_type": "stream",
     "text": [
      "Enter the start of the range:  10\n",
      "Enter the end of the range:  50\n"
     ]
    },
    {
     "name": "stdout",
     "output_type": "stream",
     "text": [
      "Prime numbers in the range from 10 to 50:\n",
      "[11, 13, 17, 19, 23, 29, 31, 37, 41, 43, 47]\n"
     ]
    }
   ],
   "source": [
    "#12. Create a program that prints the prime numbers in a given range using a `for` loop.\n",
    "\n",
    "# Input: Get the range from the user\n",
    "start = int(input(\"Enter the start of the range: \"))\n",
    "end = int(input(\"Enter the end of the range: \"))\n",
    "\n",
    "# Initialize a list to store prime numbers\n",
    "prime_numbers = []\n",
    "\n",
    "# Use a for loop to iterate through the range\n",
    "for num in range(start, end + 1):\n",
    "    if num > 1:  # Prime numbers are greater than 1\n",
    "        is_prime = True\n",
    "        for i in range(2, int(num ** 0.5) + 1):\n",
    "            if num % i == 0:\n",
    "                is_prime = False\n",
    "                break\n",
    "        if is_prime:\n",
    "            prime_numbers.append(num)\n",
    "\n",
    "# Print the prime numbers\n",
    "print(f\"Prime numbers in the range from {start} to {end}:\")\n",
    "print(prime_numbers)"
   ]
  },
  {
   "cell_type": "code",
   "execution_count": 15,
   "id": "b404a57c-d0a7-4c85-9883-aba8268e8bfd",
   "metadata": {},
   "outputs": [
    {
     "name": "stdin",
     "output_type": "stream",
     "text": [
      "Enter a string:  Gautam is a good boy.\n"
     ]
    },
    {
     "name": "stdout",
     "output_type": "stream",
     "text": [
      "The number of vowels in the string is: 8\n"
     ]
    }
   ],
   "source": [
    "#13. Develop a program that counts the number of vowels in a string using a `for` loop.\n",
    "\n",
    "# Input: Get a string from the user\n",
    "input_string = input(\"Enter a string: \")\n",
    "\n",
    "# Initialize a variable to count vowels\n",
    "vowel_count = 0\n",
    "\n",
    "# Define a set of vowels to check against\n",
    "vowels = set(\"AEIOUaeiou\")\n",
    "\n",
    "# Use a for loop to count the vowels in the string\n",
    "for char in input_string:\n",
    "    if char in vowels:\n",
    "        vowel_count += 1\n",
    "\n",
    "# Print the count of vowels\n",
    "print(f\"The number of vowels in the string is: {vowel_count}\")"
   ]
  },
  {
   "cell_type": "code",
   "execution_count": 16,
   "id": "f05a1d17-e0a7-42b4-a818-8dc2fa292623",
   "metadata": {},
   "outputs": [
    {
     "name": "stdout",
     "output_type": "stream",
     "text": [
      "The maximum element in the 2D list is: 9\n"
     ]
    }
   ],
   "source": [
    "#14. Write a program to find the maximum element in a 2D list using a nested `for` loop.\n",
    "\n",
    "# Define a 2D list\n",
    "matrix = [\n",
    "    [1, 2, 3],\n",
    "    [4, 5, 6],\n",
    "    [7, 8, 9]\n",
    "]\n",
    "\n",
    "# Initialize a variable to store the maximum element\n",
    "max_element = matrix[0][0]\n",
    "\n",
    "# Use a nested for loop to find the maximum element\n",
    "for row in matrix:\n",
    "    for element in row:\n",
    "        if element > max_element:\n",
    "            max_element = element\n",
    "\n",
    "# Print the maximum element\n",
    "print(\"The maximum element in the 2D list is:\", max_element)"
   ]
  },
  {
   "cell_type": "code",
   "execution_count": 17,
   "id": "f491c387-f30f-4aa3-a1c3-37a5986d3634",
   "metadata": {},
   "outputs": [
    {
     "name": "stdout",
     "output_type": "stream",
     "text": [
      "List after removing all occurrences of 2 : [1, 3, 4, 5, 6]\n"
     ]
    }
   ],
   "source": [
    "#15. Create a program that removes all occurrences of a specific element from a list using a `for` loop.\n",
    "\n",
    "# Define a list\n",
    "my_list = [1, 2, 2, 3, 4, 2, 5, 6]\n",
    "\n",
    "# Define the element to be removed\n",
    "element_to_remove = 2\n",
    "\n",
    "# Use a for loop to remove all occurrences of the element\n",
    "for item in my_list[:]:  # Create a copy of the list to avoid modifying it directly\n",
    "    if item == element_to_remove:\n",
    "        my_list.remove(item)\n",
    "\n",
    "# Print the modified list\n",
    "print(\"List after removing all occurrences of\", element_to_remove, \":\", my_list)\n"
   ]
  },
  {
   "cell_type": "code",
   "execution_count": 18,
   "id": "39c3133e-5e28-40a1-9444-f53da909dbbc",
   "metadata": {},
   "outputs": [
    {
     "name": "stdout",
     "output_type": "stream",
     "text": [
      "Multiplication Table:\n",
      "Table for 1:\n",
      "1 x 1 = 1\n",
      "1 x 2 = 2\n",
      "1 x 3 = 3\n",
      "1 x 4 = 4\n",
      "1 x 5 = 5\n",
      "1 x 6 = 6\n",
      "1 x 7 = 7\n",
      "1 x 8 = 8\n",
      "1 x 9 = 9\n",
      "1 x 10 = 10\n",
      "\n",
      "Table for 2:\n",
      "2 x 1 = 2\n",
      "2 x 2 = 4\n",
      "2 x 3 = 6\n",
      "2 x 4 = 8\n",
      "2 x 5 = 10\n",
      "2 x 6 = 12\n",
      "2 x 7 = 14\n",
      "2 x 8 = 16\n",
      "2 x 9 = 18\n",
      "2 x 10 = 20\n",
      "\n",
      "Table for 3:\n",
      "3 x 1 = 3\n",
      "3 x 2 = 6\n",
      "3 x 3 = 9\n",
      "3 x 4 = 12\n",
      "3 x 5 = 15\n",
      "3 x 6 = 18\n",
      "3 x 7 = 21\n",
      "3 x 8 = 24\n",
      "3 x 9 = 27\n",
      "3 x 10 = 30\n",
      "\n",
      "Table for 4:\n",
      "4 x 1 = 4\n",
      "4 x 2 = 8\n",
      "4 x 3 = 12\n",
      "4 x 4 = 16\n",
      "4 x 5 = 20\n",
      "4 x 6 = 24\n",
      "4 x 7 = 28\n",
      "4 x 8 = 32\n",
      "4 x 9 = 36\n",
      "4 x 10 = 40\n",
      "\n",
      "Table for 5:\n",
      "5 x 1 = 5\n",
      "5 x 2 = 10\n",
      "5 x 3 = 15\n",
      "5 x 4 = 20\n",
      "5 x 5 = 25\n",
      "5 x 6 = 30\n",
      "5 x 7 = 35\n",
      "5 x 8 = 40\n",
      "5 x 9 = 45\n",
      "5 x 10 = 50\n",
      "\n"
     ]
    }
   ],
   "source": [
    "#16. Develop a program that generates a multiplication table for numbers from 1 to 5 using a nested `for` loop.\n",
    "\n",
    "# Use a nested for loop to generate the multiplication table\n",
    "print(\"Multiplication Table:\")\n",
    "for i in range(1, 6):\n",
    "    print(f\"Table for {i}:\")\n",
    "    for j in range(1, 11):\n",
    "        result = i * j\n",
    "        print(f\"{i} x {j} = {result}\")\n",
    "    print()  # Add an empty line for clarity"
   ]
  },
  {
   "cell_type": "code",
   "execution_count": 19,
   "id": "a6602de4-2e11-449e-9f1d-4415192c7ffa",
   "metadata": {},
   "outputs": [
    {
     "name": "stdout",
     "output_type": "stream",
     "text": [
      "Fahrenheit Temperatures: [32, 68, 86, 104, 212]\n",
      "Celsius Temperatures: [0.0, 20.0, 30.0, 40.0, 100.0]\n"
     ]
    }
   ],
   "source": [
    "#17. Write a program that converts a list of Fahrenheit temperatures to Celsius using a `for` loop.\n",
    "\n",
    "# Define a list of Fahrenheit temperatures\n",
    "fahrenheit_temperatures = [32, 68, 86, 104, 212]\n",
    "\n",
    "# Create an empty list to store the Celsius temperatures\n",
    "celsius_temperatures = []\n",
    "\n",
    "# Use a for loop to convert Fahrenheit to Celsius\n",
    "for fahrenheit in fahrenheit_temperatures:\n",
    "    celsius = (fahrenheit - 32) * 5/9\n",
    "    celsius_temperatures.append(celsius)\n",
    "\n",
    "# Print the Celsius temperatures\n",
    "print(\"Fahrenheit Temperatures:\", fahrenheit_temperatures)\n",
    "print(\"Celsius Temperatures:\", celsius_temperatures)"
   ]
  },
  {
   "cell_type": "code",
   "execution_count": 20,
   "id": "7c5649cc-ba52-43da-b566-a10e38de1273",
   "metadata": {},
   "outputs": [
    {
     "name": "stdout",
     "output_type": "stream",
     "text": [
      "Common elements between the two lists: [3, 4, 5]\n"
     ]
    }
   ],
   "source": [
    "#18. Create a program to print the common elements from two lists using a `for` loop.\n",
    "\n",
    "# Define two lists\n",
    "list1 = [1, 2, 3, 4, 5]\n",
    "list2 = [3, 4, 5, 6, 7]\n",
    "\n",
    "# Create an empty list to store common elements\n",
    "common_elements = []\n",
    "\n",
    "# Use a for loop to find common elements\n",
    "for item1 in list1:\n",
    "    for item2 in list2:\n",
    "        if item1 == item2:\n",
    "            common_elements.append(item1)\n",
    "\n",
    "# Print the common elements\n",
    "print(\"Common elements between the two lists:\", common_elements)"
   ]
  },
  {
   "cell_type": "code",
   "execution_count": 21,
   "id": "fec06fde-586a-4c1a-bf20-f53a95381ff2",
   "metadata": {},
   "outputs": [
    {
     "name": "stdin",
     "output_type": "stream",
     "text": [
      "Enter the number of rows for the right-angled triangle pattern:  5\n"
     ]
    },
    {
     "name": "stdout",
     "output_type": "stream",
     "text": [
      "* \n",
      "* * \n",
      "* * * \n",
      "* * * * \n",
      "* * * * * \n"
     ]
    }
   ],
   "source": [
    "#19. Develop a program that prints the pattern of right-angled triangles using a `for` loop. \n",
    "#Use ‘*’ to draw the pattern.\n",
    "\n",
    "# Get the number of rows for the pattern from the user\n",
    "num_rows = int(input(\"Enter the number of rows for the right-angled triangle pattern: \"))\n",
    "\n",
    "# Use a for loop to print the pattern\n",
    "for i in range(1, num_rows + 1):\n",
    "    for j in range(1, i + 1):\n",
    "        print(\"*\", end=\" \")\n",
    "    print()  # Move to the next line for the next row"
   ]
  },
  {
   "cell_type": "code",
   "execution_count": 22,
   "id": "08d2b252-411a-462d-a607-7f90551228ba",
   "metadata": {},
   "outputs": [
    {
     "name": "stdin",
     "output_type": "stream",
     "text": [
      "Enter the first number:  56\n",
      "Enter the second number:  24\n"
     ]
    },
    {
     "name": "stdout",
     "output_type": "stream",
     "text": [
      "The GCD of 56 and 24 is: 8\n"
     ]
    }
   ],
   "source": [
    "#20. Write a program to find the greatest common divisor (GCD) of two numbers using a `for` loop.\n",
    "\n",
    "# Input: Get two numbers from the user\n",
    "num1 = int(input(\"Enter the first number: \"))\n",
    "num2 = int(input(\"Enter the second number: \"))\n",
    "\n",
    "# Determine the smaller and larger numbers\n",
    "smaller = min(num1, num2)\n",
    "larger = max(num1, num2)\n",
    "\n",
    "# Use a for loop to find the GCD\n",
    "for divisor in range(smaller, 0, -1):\n",
    "    if smaller % divisor == 0 and larger % divisor == 0:\n",
    "        gcd = divisor\n",
    "        break\n",
    "\n",
    "# Print the GCD\n",
    "print(f\"The GCD of {num1} and {num2} is: {gcd}\")"
   ]
  },
  {
   "cell_type": "code",
   "execution_count": 23,
   "id": "31e75603-065b-484d-8576-3896dc112c97",
   "metadata": {},
   "outputs": [
    {
     "name": "stdout",
     "output_type": "stream",
     "text": [
      "List of digit sums: [6, 9, 21, 9, 3]\n"
     ]
    }
   ],
   "source": [
    "#21. Create a program that calculates the sum of the digits of numbers in a list using a list comprehension.\n",
    "\n",
    "# Define a list of numbers\n",
    "numbers = [123, 45, 678, 9, 12]\n",
    "\n",
    "# Use a list comprehension to calculate the sum of digits for each number\n",
    "digit_sums = [sum(int(digit) for digit in str(number)) for number in numbers]\n",
    "\n",
    "# Print the list of digit sums\n",
    "print(\"List of digit sums:\", digit_sums)"
   ]
  },
  {
   "cell_type": "code",
   "execution_count": 24,
   "id": "a9f32757-fd5c-4d4b-9d60-54ac4e617ef3",
   "metadata": {},
   "outputs": [
    {
     "name": "stdin",
     "output_type": "stream",
     "text": [
      "Enter a number:  56\n"
     ]
    },
    {
     "name": "stdout",
     "output_type": "stream",
     "text": [
      "Prime factors of 56 are: [2, 7]\n"
     ]
    }
   ],
   "source": [
    "#22. Write a program to find the prime factors of a given number using a `for` loop and list comprehension.\n",
    "\n",
    "# Input: Get the number from the user\n",
    "number = int(input(\"Enter a number: \"))\n",
    "\n",
    "# Use a list comprehension to find prime factors\n",
    "prime_factors = [factor for factor in range(2, number + 1) if number % factor == 0]\n",
    "\n",
    "# Use a for loop to filter prime factors\n",
    "prime_factors = [factor for factor in prime_factors if all(factor % divisor != 0 for divisor in range(2, factor))]\n",
    "\n",
    "# Print the prime factors\n",
    "print(f\"Prime factors of {number} are:\", prime_factors)"
   ]
  },
  {
   "cell_type": "code",
   "execution_count": 25,
   "id": "1a847101-e338-4528-afa1-5ac3280ffdd2",
   "metadata": {},
   "outputs": [
    {
     "name": "stdout",
     "output_type": "stream",
     "text": [
      "Original List: [1, 2, 2, 3, 4, 4, 5, 5, 6]\n",
      "Unique List: [1, 2, 3, 4, 5, 6]\n"
     ]
    }
   ],
   "source": [
    "#23. Develop a program that extracts unique elements from a list \n",
    "#and stores them in a new list using a list comprehension.\n",
    "\n",
    "# Define a list with duplicate elements\n",
    "original_list = [1, 2, 2, 3, 4, 4, 5, 5, 6]\n",
    "\n",
    "# Use a list comprehension to create a new list with unique elements\n",
    "unique_list = [x for i, x in enumerate(original_list) if x not in original_list[:i]]\n",
    "\n",
    "# Print the new list with unique elements\n",
    "print(\"Original List:\", original_list)\n",
    "print(\"Unique List:\", unique_list)"
   ]
  },
  {
   "cell_type": "code",
   "execution_count": 27,
   "id": "ca18848f-45a5-40ef-98bd-b91849f23e82",
   "metadata": {},
   "outputs": [
    {
     "name": "stdin",
     "output_type": "stream",
     "text": [
      "Enter the limit for palindromic numbers:  20\n"
     ]
    },
    {
     "name": "stdout",
     "output_type": "stream",
     "text": [
      "Palindromic Numbers up to 20 are: [1, 2, 3, 4, 5, 6, 7, 8, 9, 11]\n"
     ]
    }
   ],
   "source": [
    "#24. Create a program that generates a list of all palindromic \n",
    "#numbers up to a specified limit using a list comprehension.\n",
    "\n",
    "# Input: Get the limit from the user\n",
    "limit = int(input(\"Enter the limit for palindromic numbers: \"))\n",
    "\n",
    "# Use a list comprehension to generate palindromic numbers\n",
    "palindromic_numbers = [num for num in range(1, limit + 1) if str(num) == str(num)[::-1]]\n",
    "\n",
    "# Print the list of palindromic numbers\n",
    "print(\"Palindromic Numbers up to\", limit, \"are:\", palindromic_numbers)"
   ]
  },
  {
   "cell_type": "code",
   "execution_count": 28,
   "id": "51f6802c-c653-4669-a955-afad9e9fb8ad",
   "metadata": {},
   "outputs": [
    {
     "name": "stdout",
     "output_type": "stream",
     "text": [
      "Original Nested List: [[1, 2, 3], [4, 5], [6, 7, 8]]\n",
      "Flattened List: [1, 2, 3, 4, 5, 6, 7, 8]\n"
     ]
    }
   ],
   "source": [
    "#25. Write a program to flatten a nested list using list comprehension.\n",
    "\n",
    "# Define a nested list\n",
    "nested_list = [[1, 2, 3], [4, 5], [6, 7, 8]]\n",
    "\n",
    "# Use a list comprehension to flatten the nested list\n",
    "flattened_list = [item for sublist in nested_list for item in sublist]\n",
    "\n",
    "# Print the flattened list\n",
    "print(\"Original Nested List:\", nested_list)\n",
    "print(\"Flattened List:\", flattened_list)"
   ]
  },
  {
   "cell_type": "code",
   "execution_count": 29,
   "id": "81745b9f-efb9-4f65-8359-6e86d1acbf6d",
   "metadata": {},
   "outputs": [
    {
     "name": "stdout",
     "output_type": "stream",
     "text": [
      "Original List: [1, 2, 3, 4, 5, 6, 7, 8, 9, 10]\n",
      "Sum of Even Numbers: 30\n",
      "Sum of Odd Numbers: 25\n"
     ]
    }
   ],
   "source": [
    "#26. Develop a program that computes the sum of even and \n",
    "#odd numbers in a list separately using list comprehension.\n",
    "\n",
    "# Define a list of numbers\n",
    "numbers = [1, 2, 3, 4, 5, 6, 7, 8, 9, 10]\n",
    "\n",
    "# Use list comprehension to compute the sum of even and odd numbers separately\n",
    "sum_of_even = sum([num for num in numbers if num % 2 == 0])\n",
    "sum_of_odd = sum([num for num in numbers if num % 2 != 0])\n",
    "\n",
    "# Print the sums\n",
    "print(\"Original List:\", numbers)\n",
    "print(\"Sum of Even Numbers:\", sum_of_even)\n",
    "print(\"Sum of Odd Numbers:\", sum_of_odd)"
   ]
  },
  {
   "cell_type": "code",
   "execution_count": 31,
   "id": "66abc9d1-4862-4b35-88b6-159e19d212ea",
   "metadata": {},
   "outputs": [
    {
     "name": "stdout",
     "output_type": "stream",
     "text": [
      "Squares of Odd Numbers between 1 and 10: [1, 9, 25, 49, 81]\n"
     ]
    }
   ],
   "source": [
    "#27. Create a program that generates a list of squares of \n",
    "#odd numbers between 1 and 10 using list comprehension.\n",
    "\n",
    "# Use list comprehension to generate the squares of odd numbers between 1 and 10\n",
    "squares_of_odd_numbers = [num ** 2 for num in range(1, 11) if num % 2 != 0]\n",
    "\n",
    "# Print the list of squares\n",
    "print(\"Squares of Odd Numbers between 1 and 10:\", squares_of_odd_numbers)"
   ]
  },
  {
   "cell_type": "code",
   "execution_count": 32,
   "id": "85aec226-edf1-4b26-88a7-2078791d4284",
   "metadata": {},
   "outputs": [
    {
     "name": "stdout",
     "output_type": "stream",
     "text": [
      "Combined Dictionary: {'a': 1, 'b': 2, 'c': 3}\n"
     ]
    }
   ],
   "source": [
    "#28. Write a program that combines two lists into a dictionary using list comprehension.\n",
    "\n",
    "# Define two lists, one for keys and the other for values\n",
    "keys = ['a', 'b', 'c']\n",
    "values = [1, 2, 3]\n",
    "\n",
    "# Use list comprehension to create a dictionary\n",
    "combined_dict = {key: value for key, value in zip(keys, values)}\n",
    "\n",
    "# Print the combined dictionary\n",
    "print(\"Combined Dictionary:\", combined_dict)"
   ]
  },
  {
   "cell_type": "code",
   "execution_count": 33,
   "id": "117389db-f507-4c24-8d99-3393f9548137",
   "metadata": {},
   "outputs": [
    {
     "name": "stdin",
     "output_type": "stream",
     "text": [
      "Enter a string:  Gautam is a good boy.\n"
     ]
    },
    {
     "name": "stdout",
     "output_type": "stream",
     "text": [
      "Input String: Gautam is a good boy.\n",
      "Vowels in the String: ['a', 'u', 'a', 'i', 'a', 'o', 'o', 'o']\n"
     ]
    }
   ],
   "source": [
    "#29. Develop a program that extracts the vowels from a string \n",
    "#and stores them in a list using list comprehension.\n",
    "\n",
    "# Input: Get a string from the user\n",
    "input_string = input(\"Enter a string: \")\n",
    "\n",
    "# Use list comprehension to extract vowels\n",
    "vowels = [char for char in input_string if char.lower() in 'aeiou']\n",
    "\n",
    "# Print the list of vowels\n",
    "print(\"Input String:\", input_string)\n",
    "print(\"Vowels in the String:\", vowels)"
   ]
  },
  {
   "cell_type": "code",
   "execution_count": 34,
   "id": "4a69bd7a-87c4-46c1-afbf-b2e4cb060ff1",
   "metadata": {},
   "outputs": [
    {
     "name": "stdout",
     "output_type": "stream",
     "text": [
      "Original List of Strings: ['abc123', '456def', '789ghi', 'jklmno']\n",
      "Numeric Strings: ['123', '456', '789', '']\n"
     ]
    }
   ],
   "source": [
    "#30. Create a program that removes all non-numeric characters \n",
    "#from a list of strings using list comprehension.\n",
    "\n",
    "# Define a list of strings with non-numeric characters\n",
    "strings = [\"abc123\", \"456def\", \"789ghi\", \"jklmno\"]\n",
    "\n",
    "# Use list comprehension to remove non-numeric characters\n",
    "numeric_strings = [''.join(char for char in string if char.isdigit()) for string in strings]\n",
    "\n",
    "# Print the list of numeric strings\n",
    "print(\"Original List of Strings:\", strings)\n",
    "print(\"Numeric Strings:\", numeric_strings)"
   ]
  },
  {
   "cell_type": "code",
   "execution_count": 35,
   "id": "b5c1ef17-820e-48e2-b736-14f6fa7ed761",
   "metadata": {},
   "outputs": [
    {
     "name": "stdin",
     "output_type": "stream",
     "text": [
      "Generate prime numbers up to:  100\n"
     ]
    },
    {
     "name": "stdout",
     "output_type": "stream",
     "text": [
      "Prime Numbers up to 100 are: [2, 3, 5, 7, 11, 13, 17, 19, 23, 29, 31, 37, 41, 43, 47, 53, 59, 61, 67, 71, 73, 79, 83, 89, 97]\n"
     ]
    }
   ],
   "source": [
    "#31. Write a program to generate a list of prime numbers \n",
    "#using the Sieve of Eratosthenes algorithm and list comprehension.\n",
    "\n",
    "def sieve_eratosthenes(n):\n",
    "    # Create a boolean list \"prime[0..n]\" and initialize all entries as True\n",
    "    prime = [True for _ in range(n+1)]\n",
    "    p = 2\n",
    "    while p**2 <= n:\n",
    "        # If prime[p] is not changed, then it's a prime\n",
    "        if prime[p]:\n",
    "            for i in range(p**2, n+1, p):\n",
    "                prime[i] = False\n",
    "        p += 1\n",
    "    # Create a list of prime numbers using list comprehension\n",
    "    primes = [p for p in range(2, n+1) if prime[p]]\n",
    "    return primes\n",
    "\n",
    "# Input: Get the upper limit for prime numbers\n",
    "n = int(input(\"Generate prime numbers up to: \"))\n",
    "\n",
    "# Generate the list of prime numbers\n",
    "prime_numbers = sieve_eratosthenes(n)\n",
    "\n",
    "# Print the list of prime numbers\n",
    "print(\"Prime Numbers up to\", n, \"are:\", prime_numbers)"
   ]
  },
  {
   "cell_type": "code",
   "execution_count": 36,
   "id": "dc5870f3-0444-40d2-9d76-dd0c20e54e39",
   "metadata": {},
   "outputs": [
    {
     "name": "stdin",
     "output_type": "stream",
     "text": [
      "Enter the limit for Pythagorean triplets:  100\n"
     ]
    },
    {
     "name": "stdout",
     "output_type": "stream",
     "text": [
      "Pythagorean Triplets up to 100 are: [(3, 4, 5), (5, 12, 13), (6, 8, 10), (7, 24, 25), (8, 15, 17), (9, 12, 15), (9, 40, 41), (10, 24, 26), (11, 60, 61), (12, 16, 20), (12, 35, 37), (13, 84, 85), (14, 48, 50), (15, 20, 25), (15, 36, 39), (16, 30, 34), (16, 63, 65), (18, 24, 30), (18, 80, 82), (20, 21, 29), (20, 48, 52), (21, 28, 35), (21, 72, 75), (24, 32, 40), (24, 45, 51), (24, 70, 74), (25, 60, 65), (27, 36, 45), (28, 45, 53), (28, 96, 100), (30, 40, 50), (30, 72, 78), (32, 60, 68), (33, 44, 55), (33, 56, 65), (35, 84, 91), (36, 48, 60), (36, 77, 85), (39, 52, 65), (39, 80, 89), (40, 42, 58), (40, 75, 85), (42, 56, 70), (45, 60, 75), (48, 55, 73), (48, 64, 80), (51, 68, 85), (54, 72, 90), (57, 76, 95), (60, 63, 87), (60, 80, 100), (65, 72, 97)]\n"
     ]
    }
   ],
   "source": [
    "#32. Create a program that generates a list of all Pythagorean \n",
    "#triplets up to a specified limit using list comprehension.\n",
    "\n",
    "# Input: Get the limit for Pythagorean triplets\n",
    "limit = int(input(\"Enter the limit for Pythagorean triplets: \"))\n",
    "\n",
    "# Use list comprehension to generate Pythagorean triplets\n",
    "triplets = [(a, b, c) for a in range(1, limit+1) for b in range(a, limit+1) for c in range(b, limit+1) if a**2 + b**2 == c**2]\n",
    "\n",
    "# Print the list of Pythagorean triplets\n",
    "print(\"Pythagorean Triplets up to\", limit, \"are:\", triplets)"
   ]
  },
  {
   "cell_type": "code",
   "execution_count": 37,
   "id": "cc58a952-cfcb-4c82-8277-0ba8d809e3c4",
   "metadata": {},
   "outputs": [
    {
     "name": "stdout",
     "output_type": "stream",
     "text": [
      "List 1: [1, 2, 3]\n",
      "List 2: ['a', 'b']\n",
      "Combinations of List 1 and List 2: [(1, 'a'), (1, 'b'), (2, 'a'), (2, 'b'), (3, 'a'), (3, 'b')]\n"
     ]
    }
   ],
   "source": [
    "#33. Develop a program that generates a list of all possible combinations of two lists using list comprehension.\n",
    "\n",
    "# Define two lists\n",
    "list1 = [1, 2, 3]\n",
    "list2 = ['a', 'b']\n",
    "\n",
    "# Use list comprehension to create combinations of elements from both lists\n",
    "combinations = [(x, y) for x in list1 for y in list2]\n",
    "\n",
    "# Print the list of combinations\n",
    "print(\"List 1:\", list1)\n",
    "print(\"List 2:\", list2)\n",
    "print(\"Combinations of List 1 and List 2:\", combinations)"
   ]
  },
  {
   "cell_type": "code",
   "execution_count": 38,
   "id": "bfaae184-11e5-4879-9385-b8c9dde1da65",
   "metadata": {},
   "outputs": [
    {
     "name": "stdout",
     "output_type": "stream",
     "text": [
      "List of Numbers: [1, 2, 2, 3, 4, 4, 4, 5]\n",
      "Mean (Average): 3.125\n",
      "Median: 3.5\n",
      "Mode: 4\n"
     ]
    }
   ],
   "source": [
    "#34. Write a program that calculates the mean, median, and mode of a list of numbers using list comprehension.\n",
    "\n",
    "from statistics import mean, median, mode\n",
    "\n",
    "# Define a list of numbers\n",
    "numbers = [1, 2, 2, 3, 4, 4, 4, 5]\n",
    "\n",
    "# Use list comprehension to calculate the mean (average)\n",
    "mean_value = mean(numbers)\n",
    "\n",
    "# Use built-in functions to calculate the median and mode\n",
    "median_value = median(numbers)\n",
    "mode_value = mode(numbers)\n",
    "\n",
    "# Print the mean, median, and mode\n",
    "print(\"List of Numbers:\", numbers)\n",
    "print(\"Mean (Average):\", mean_value)\n",
    "print(\"Median:\", median_value)\n",
    "print(\"Mode:\", mode_value)"
   ]
  },
  {
   "cell_type": "code",
   "execution_count": 39,
   "id": "0899ea75-80a1-44da-b232-97da9483639a",
   "metadata": {},
   "outputs": [
    {
     "name": "stdin",
     "output_type": "stream",
     "text": [
      "Enter the number of rows for Pascal's triangle:  5\n"
     ]
    },
    {
     "name": "stdout",
     "output_type": "stream",
     "text": [
      "Pascal's Triangle with 5 Rows:\n",
      "[1]\n",
      "[1, 1]\n",
      "[1, 2, 1]\n",
      "[1, 3, 3, 1]\n",
      "[1, 4, 6, 4, 1]\n"
     ]
    }
   ],
   "source": [
    "#35. Create a program that generates Pascal's triangle up to a \n",
    "#specified number of rows using list comprehension.\n",
    "\n",
    "def generate_pascals_triangle(n):\n",
    "    # Check for an invalid input\n",
    "    if n <= 0:\n",
    "        return []\n",
    "\n",
    "    # Initialize Pascal's triangle with the first row\n",
    "    triangle = [[1]]\n",
    "\n",
    "    # Generate subsequent rows using list comprehension\n",
    "    for _ in range(1, n):\n",
    "        previous_row = triangle[-1]\n",
    "        new_row = [1] + [previous_row[i] + previous_row[i + 1] for i in range(len(previous_row) - 1)] + [1]\n",
    "        triangle.append(new_row)\n",
    "\n",
    "    return triangle\n",
    "\n",
    "# Input: Get the number of rows for Pascal's triangle\n",
    "num_rows = int(input(\"Enter the number of rows for Pascal's triangle: \"))\n",
    "\n",
    "# Generate Pascal's triangle\n",
    "pascals_triangle = generate_pascals_triangle(num_rows)\n",
    "\n",
    "# Print Pascal's triangle\n",
    "print(\"Pascal's Triangle with\", num_rows, \"Rows:\")\n",
    "for row in pascals_triangle:\n",
    "    print(row)"
   ]
  },
  {
   "cell_type": "code",
   "execution_count": 40,
   "id": "5229e8c3-9208-4089-9984-591ee364e9c8",
   "metadata": {},
   "outputs": [
    {
     "name": "stdout",
     "output_type": "stream",
     "text": [
      "Factorial of 1: 1\n",
      "Sum of digits of 1!: 1\n",
      "Factorial of 2: 2\n",
      "Sum of digits of 2!: 2\n",
      "Factorial of 3: 6\n",
      "Sum of digits of 3!: 6\n",
      "Factorial of 4: 24\n",
      "Sum of digits of 4!: 6\n",
      "Factorial of 5: 120\n",
      "Sum of digits of 5!: 3\n"
     ]
    }
   ],
   "source": [
    "#36. Develop a program that calculates the sum of the digits of a \n",
    "# factorial of numbers from 1 to 5 using list comprehension.\n",
    "\n",
    "# Define a function to calculate the factorial of a number\n",
    "def factorial(n):\n",
    "    if n == 0:\n",
    "        return 1\n",
    "    return n * factorial(n - 1)\n",
    "\n",
    "# Use list comprehension to calculate the factorial and sum of digits\n",
    "results = [sum(map(int, str(factorial(n)))) for n in range(1, 6)]\n",
    "\n",
    "# Print the results\n",
    "for n, result in enumerate(results, start=1):\n",
    "    print(f\"Factorial of {n}:\", factorial(n))\n",
    "    print(f\"Sum of digits of {n}!:\", result)"
   ]
  },
  {
   "cell_type": "code",
   "execution_count": 41,
   "id": "1d8d3db6-fbed-4727-9b18-e91e1a19f941",
   "metadata": {},
   "outputs": [
    {
     "name": "stdin",
     "output_type": "stream",
     "text": [
      "Enter a sentence:  Gautam is a good boy.\n"
     ]
    },
    {
     "name": "stdout",
     "output_type": "stream",
     "text": [
      "Longest word in the sentence: Gautam\n"
     ]
    }
   ],
   "source": [
    "#37. Write a program that finds the longest word in a sentence using list comprehension.\n",
    "\n",
    "# Input: Get a sentence from the user\n",
    "sentence = input(\"Enter a sentence: \")\n",
    "\n",
    "# Use list comprehension to split the sentence into words\n",
    "words = sentence.split()\n",
    "\n",
    "# Find the longest word using list comprehension\n",
    "longest_word = max(words, key=lambda word: len(word))\n",
    "\n",
    "# Print the longest word\n",
    "print(\"Longest word in the sentence:\", longest_word)"
   ]
  },
  {
   "cell_type": "code",
   "execution_count": 46,
   "id": "edb6c82a-cd9f-4ee8-8c49-656df9495655",
   "metadata": {},
   "outputs": [
    {
     "name": "stdin",
     "output_type": "stream",
     "text": [
      "Enter a list of strings (comma-separated):  aeiou, gautam, adoulie, douleia, eucosia.\n"
     ]
    },
    {
     "name": "stdout",
     "output_type": "stream",
     "text": [
      "Strings with more than three vowels: ['aeiou', ' adoulie', ' douleia', ' eucosia.']\n"
     ]
    }
   ],
   "source": [
    "#38. Create a program that filters a list of strings to include \n",
    "#only those with more than three vowels using list comprehension.\n",
    "\n",
    "# Define a function to count the number of vowels in a string\n",
    "def count_vowels(string):\n",
    "    vowels = \"AEIOUaeiou\"\n",
    "    return sum(1 for char in string if char in vowels)\n",
    "\n",
    "# Input: Get a list of strings from the user\n",
    "string_list = input(\"Enter a list of strings (comma-separated): \").split(',')\n",
    "\n",
    "# Use list comprehension to filter strings with more than three vowels\n",
    "filtered_strings = [string for string in string_list if count_vowels(string) > 3]\n",
    "\n",
    "# Print the filtered strings\n",
    "print(\"Strings with more than three vowels:\", filtered_strings)"
   ]
  },
  {
   "cell_type": "code",
   "execution_count": 47,
   "id": "7a10c588-d6fd-49da-943e-921ccc876ec6",
   "metadata": {},
   "outputs": [
    {
     "name": "stdout",
     "output_type": "stream",
     "text": [
      "Total sum of digits from 1 to 1000: 13501\n"
     ]
    }
   ],
   "source": [
    "#39. Develop a program that calculates the sum of the digits \n",
    "# of numbers from 1 to 1000 using list comprehension.\n",
    "\n",
    "# Use list comprehension to calculate the sum of digits for numbers from 1 to 1000\n",
    "digit_sums = [sum(map(int, str(number))) for number in range(1, 1001)]\n",
    "\n",
    "# Calculate the total sum of digit sums\n",
    "total_sum = sum(digit_sums)\n",
    "\n",
    "# Print the total sum\n",
    "print(\"Total sum of digits from 1 to 1000:\", total_sum)"
   ]
  },
  {
   "cell_type": "code",
   "execution_count": 48,
   "id": "56d00e33-b9e7-45ff-abc5-b93263e0aa23",
   "metadata": {},
   "outputs": [
    {
     "name": "stdout",
     "output_type": "stream",
     "text": [
      "Prime Palindromic Numbers up to 1000 are: [2, 3, 5, 7, 11, 101, 131, 151, 181, 191, 313, 353, 373, 383, 727, 757, 787, 797, 919, 929]\n"
     ]
    }
   ],
   "source": [
    "#40. Write a program that generates a list of prime palindromic numbers using list comprehension.\n",
    "\n",
    "# Define a function to check for prime numbers\n",
    "def is_prime(n):\n",
    "    if n <= 1:\n",
    "        return False\n",
    "    if n <= 3:\n",
    "        return True\n",
    "    if n % 2 == 0 or n % 3 == 0:\n",
    "        return False\n",
    "    i = 5\n",
    "    while i * i <= n:\n",
    "        if n % i == 0 or n % (i + 2) == 0:\n",
    "            return False\n",
    "        i += 6\n",
    "    return True\n",
    "\n",
    "# Use list comprehension to generate prime palindromic numbers\n",
    "limit = 1000  # Change this limit as needed\n",
    "prime_palindromic_numbers = [n for n in range(2, limit) if is_prime(n) and str(n) == str(n)[::-1]]\n",
    "\n",
    "# Print the list of prime palindromic numbers\n",
    "print(\"Prime Palindromic Numbers up to\", limit, \"are:\", prime_palindromic_numbers)"
   ]
  }
 ],
 "metadata": {
  "kernelspec": {
   "display_name": "Python 3 (ipykernel)",
   "language": "python",
   "name": "python3"
  },
  "language_info": {
   "codemirror_mode": {
    "name": "ipython",
    "version": 3
   },
   "file_extension": ".py",
   "mimetype": "text/x-python",
   "name": "python",
   "nbconvert_exporter": "python",
   "pygments_lexer": "ipython3",
   "version": "3.10.8"
  }
 },
 "nbformat": 4,
 "nbformat_minor": 5
}
